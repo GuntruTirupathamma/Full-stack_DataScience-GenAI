{
 "cells": [
  {
   "cell_type": "code",
   "execution_count": null,
   "id": "07ee55f6-6319-4afd-a855-ecad44386962",
   "metadata": {},
   "outputs": [],
   "source": [
    "Tuple Creation"
   ]
  },
  {
   "cell_type": "code",
   "execution_count": 1,
   "id": "2d2f7a46-59f2-467f-8c0d-fa59a73e5981",
   "metadata": {},
   "outputs": [],
   "source": [
    "Tuple1=()"
   ]
  },
  {
   "cell_type": "code",
   "execution_count": 2,
   "id": "da3f5e42-b46f-4692-8e33-f763ab9ba9da",
   "metadata": {},
   "outputs": [],
   "source": [
    "Tuple2=(22,44,66)"
   ]
  },
  {
   "cell_type": "code",
   "execution_count": 3,
   "id": "779b7aeb-30e4-467c-b050-176110dc17b1",
   "metadata": {},
   "outputs": [],
   "source": [
    "Tuple3=(8.23,6.28,9.57)"
   ]
  },
  {
   "cell_type": "code",
   "execution_count": 4,
   "id": "a6940a34-3a11-4830-ba32-5d070e486d76",
   "metadata": {},
   "outputs": [],
   "source": [
    "Tuple4=('eight','nine','ten')"
   ]
  },
  {
   "cell_type": "code",
   "execution_count": null,
   "id": "945f64eb-e608-4cb4-9f5c-f544a3da60d5",
   "metadata": {},
   "outputs": [],
   "source": [
    "Tuple5=(34,4.5,'Tirupathamma',(29,56),(345,45))"
   ]
  },
  {
   "cell_type": "code",
   "execution_count": 5,
   "id": "b1424261-d3a4-4bf7-b8ae-350e492a35ee",
   "metadata": {},
   "outputs": [
    {
     "ename": "NameError",
     "evalue": "name 'Tuple5' is not defined",
     "output_type": "error",
     "traceback": [
      "\u001b[1;31m---------------------------------------------------------------------------\u001b[0m",
      "\u001b[1;31mNameError\u001b[0m                                 Traceback (most recent call last)",
      "Cell \u001b[1;32mIn[5], line 1\u001b[0m\n\u001b[1;32m----> 1\u001b[0m Tuple6\u001b[38;5;241m=\u001b[39m(Tuple5,\u001b[38;5;124m'\u001b[39m\u001b[38;5;124mTirupathamma\u001b[39m\u001b[38;5;124m'\u001b[39m)\n\u001b[0;32m      2\u001b[0m Tulpe6\n",
      "\u001b[1;31mNameError\u001b[0m: name 'Tuple5' is not defined"
     ]
    }
   ],
   "source": [
    "Tuple6=(Tuple5,'Tirupathamma')"
   ]
  },
  {
   "cell_type": "code",
   "execution_count": 12,
   "id": "7dcecde7-90ee-44a5-8543-21beafa002d7",
   "metadata": {},
   "outputs": [
    {
     "data": {
      "text/plain": [
       "((34, 4.5, 'suman', (29, 56), (345, 45)), 'Tirupathamma')"
      ]
     },
     "execution_count": 12,
     "metadata": {},
     "output_type": "execute_result"
    }
   ],
   "source": [
    "Tuple6"
   ]
  },
  {
   "cell_type": "code",
   "execution_count": 13,
   "id": "f27eaa9c-453a-4285-bb7c-f4c123cf2ddc",
   "metadata": {},
   "outputs": [
    {
     "data": {
      "text/plain": [
       "2"
      ]
     },
     "execution_count": 13,
     "metadata": {},
     "output_type": "execute_result"
    }
   ],
   "source": [
    "len(Tuple6)"
   ]
  },
  {
   "cell_type": "code",
   "execution_count": null,
   "id": "dbd2540a-2623-4c55-b9b4-e805b42ba13f",
   "metadata": {},
   "outputs": [],
   "source": [
    "Tuple Indexing"
   ]
  },
  {
   "cell_type": "code",
   "execution_count": 14,
   "id": "9ad22656-3ac9-4220-acdf-334f16e4f7ee",
   "metadata": {},
   "outputs": [
    {
     "data": {
      "text/plain": [
       "66"
      ]
     },
     "execution_count": 14,
     "metadata": {},
     "output_type": "execute_result"
    }
   ],
   "source": [
    "Tuple2[2]"
   ]
  },
  {
   "cell_type": "code",
   "execution_count": 15,
   "id": "e7a9271b-0c2f-4d0c-b024-2a8889e5ac1e",
   "metadata": {},
   "outputs": [
    {
     "data": {
      "text/plain": [
       "8.23"
      ]
     },
     "execution_count": 15,
     "metadata": {},
     "output_type": "execute_result"
    }
   ],
   "source": [
    "Tuple3[0]"
   ]
  },
  {
   "cell_type": "code",
   "execution_count": 16,
   "id": "bef039b6-6f69-4e8c-8205-22664d402260",
   "metadata": {},
   "outputs": [
    {
     "data": {
      "text/plain": [
       "'n'"
      ]
     },
     "execution_count": 16,
     "metadata": {},
     "output_type": "execute_result"
    }
   ],
   "source": [
    "Tuple4[1][0]"
   ]
  },
  {
   "cell_type": "code",
   "execution_count": 17,
   "id": "caa17f7a-8200-4157-a2c7-a7a30c5058cd",
   "metadata": {},
   "outputs": [
    {
     "data": {
      "text/plain": [
       "(29, 56)"
      ]
     },
     "execution_count": 17,
     "metadata": {},
     "output_type": "execute_result"
    }
   ],
   "source": [
    "Tuple5[-2]"
   ]
  },
  {
   "cell_type": "code",
   "execution_count": null,
   "id": "e3e2b852-3db0-46be-8a1c-acbc78e97d9b",
   "metadata": {},
   "outputs": [],
   "source": [
    "Tuple Slcing"
   ]
  },
  {
   "cell_type": "code",
   "execution_count": 18,
   "id": "2c46f609-1625-4e05-bfb4-3df7c056c667",
   "metadata": {},
   "outputs": [],
   "source": [
    "TheTuple=('one','hello',6,complex(2,7),[1,2,3],(1,2))"
   ]
  },
  {
   "cell_type": "code",
   "execution_count": 19,
   "id": "43e8583a-298b-43cb-a9ee-8c8491d3d2bf",
   "metadata": {},
   "outputs": [
    {
     "data": {
      "text/plain": [
       "('hello', 6, (2+7j), [1, 2, 3])"
      ]
     },
     "execution_count": 19,
     "metadata": {},
     "output_type": "execute_result"
    }
   ],
   "source": [
    "TheTuple[1:5]"
   ]
  },
  {
   "cell_type": "code",
   "execution_count": 20,
   "id": "ba0fa932-84ce-4248-ab53-f6e3d9295e8e",
   "metadata": {},
   "outputs": [
    {
     "data": {
      "text/plain": [
       "(6, (2+7j))"
      ]
     },
     "execution_count": 20,
     "metadata": {},
     "output_type": "execute_result"
    }
   ],
   "source": [
    "TheTuple[2:4]"
   ]
  },
  {
   "cell_type": "code",
   "execution_count": 21,
   "id": "71f6bbf5-f105-4cd1-9c08-590bf33e36ab",
   "metadata": {},
   "outputs": [
    {
     "data": {
      "text/plain": [
       "('one', 'hello', 6)"
      ]
     },
     "execution_count": 21,
     "metadata": {},
     "output_type": "execute_result"
    }
   ],
   "source": [
    "TheTuple[:3]"
   ]
  },
  {
   "cell_type": "code",
   "execution_count": 22,
   "id": "87222b24-6310-4ed2-9401-c717a5e948ce",
   "metadata": {},
   "outputs": [
    {
     "data": {
      "text/plain": [
       "('one', 'hello')"
      ]
     },
     "execution_count": 22,
     "metadata": {},
     "output_type": "execute_result"
    }
   ],
   "source": [
    "TheTuple[:-4]"
   ]
  },
  {
   "cell_type": "code",
   "execution_count": 23,
   "id": "3731c4ff-5f58-4e46-8b27-8589f75153e3",
   "metadata": {},
   "outputs": [
    {
     "data": {
      "text/plain": [
       "('one', 'hello', 6, (2+7j), [1, 2, 3])"
      ]
     },
     "execution_count": 23,
     "metadata": {},
     "output_type": "execute_result"
    }
   ],
   "source": [
    "TheTuple[:-1]"
   ]
  },
  {
   "cell_type": "code",
   "execution_count": 24,
   "id": "92d0ca25-9d39-4ccf-ae20-591e130ef676",
   "metadata": {},
   "outputs": [
    {
     "data": {
      "text/plain": [
       "('one', 'hello', 6, (2+7j), [1, 2, 3], (1, 2))"
      ]
     },
     "execution_count": 24,
     "metadata": {},
     "output_type": "execute_result"
    }
   ],
   "source": [
    "TheTuple"
   ]
  },
  {
   "cell_type": "code",
   "execution_count": null,
   "id": "3636abb6-69fb-4254-a2f3-810008cb8a73",
   "metadata": {},
   "outputs": [],
   "source": [
    "Removing and Changing Items"
   ]
  },
  {
   "cell_type": "code",
   "execution_count": 25,
   "id": "d88f033c-269c-4e17-9ec8-b02f7d393106",
   "metadata": {},
   "outputs": [
    {
     "data": {
      "text/plain": [
       "('one', 'hello', 6, (2+7j), [1, 2, 3], (1, 2))"
      ]
     },
     "execution_count": 25,
     "metadata": {},
     "output_type": "execute_result"
    }
   ],
   "source": [
    "TheTuple"
   ]
  },
  {
   "cell_type": "code",
   "execution_count": 26,
   "id": "8dcc4cde-b4f2-44c5-a959-1e9fffa7de8b",
   "metadata": {},
   "outputs": [
    {
     "ename": "TypeError",
     "evalue": "'tuple' object doesn't support item deletion",
     "output_type": "error",
     "traceback": [
      "\u001b[1;31m---------------------------------------------------------------------------\u001b[0m",
      "\u001b[1;31mTypeError\u001b[0m                                 Traceback (most recent call last)",
      "Cell \u001b[1;32mIn[26], line 1\u001b[0m\n\u001b[1;32m----> 1\u001b[0m \u001b[38;5;28;01mdel\u001b[39;00m TheTuple[\u001b[38;5;241m1\u001b[39m]\n",
      "\u001b[1;31mTypeError\u001b[0m: 'tuple' object doesn't support item deletion"
     ]
    }
   ],
   "source": [
    "del TheTuple[1]  #deleting is not supported in tuple"
   ]
  },
  {
   "cell_type": "code",
   "execution_count": 27,
   "id": "41e959c6-0b5c-4830-af01-7e9fd6c0caba",
   "metadata": {},
   "outputs": [
    {
     "ename": "TypeError",
     "evalue": "'tuple' object does not support item assignment",
     "output_type": "error",
     "traceback": [
      "\u001b[1;31m---------------------------------------------------------------------------\u001b[0m",
      "\u001b[1;31mTypeError\u001b[0m                                 Traceback (most recent call last)",
      "Cell \u001b[1;32mIn[27], line 1\u001b[0m\n\u001b[1;32m----> 1\u001b[0m TheTuple[\u001b[38;5;241m2\u001b[39m]\u001b[38;5;241m=\u001b[39m\u001b[38;5;241m88\u001b[39m\n",
      "\u001b[1;31mTypeError\u001b[0m: 'tuple' object does not support item assignment"
     ]
    }
   ],
   "source": [
    "TheTuple[2]=88 #we cannot chage the elements in tuple after compiling i.e., tuple is not mutable"
   ]
  },
  {
   "cell_type": "code",
   "execution_count": null,
   "id": "e864ea87-4bda-42e3-a493-b4bec62b965c",
   "metadata": {},
   "outputs": [],
   "source": [
    "loop through a tuple"
   ]
  },
  {
   "cell_type": "code",
   "execution_count": 28,
   "id": "d3571123-5bd9-45c5-a156-47d18e39bedf",
   "metadata": {},
   "outputs": [],
   "source": [
    "ThisTuple=(1,2,3,4,5,6,7,8,9)"
   ]
  },
  {
   "cell_type": "code",
   "execution_count": 29,
   "id": "a5252ff4-b49f-4359-80f0-7c66246343f7",
   "metadata": {},
   "outputs": [
    {
     "data": {
      "text/plain": [
       "(1, 2, 3, 4, 5, 6, 7, 8, 9)"
      ]
     },
     "execution_count": 29,
     "metadata": {},
     "output_type": "execute_result"
    }
   ],
   "source": [
    "ThisTuple"
   ]
  },
  {
   "cell_type": "code",
   "execution_count": 30,
   "id": "7fc57177-3438-4941-93ca-e9002500c2b5",
   "metadata": {},
   "outputs": [
    {
     "name": "stdout",
     "output_type": "stream",
     "text": [
      "1\n",
      "2\n",
      "3\n",
      "4\n",
      "5\n",
      "6\n",
      "7\n",
      "8\n",
      "9\n"
     ]
    }
   ],
   "source": [
    "for i in ThisTuple:\n",
    "    print(i)"
   ]
  },
  {
   "cell_type": "code",
   "execution_count": 31,
   "id": "97360c39-d404-4526-a6d8-8266f334e079",
   "metadata": {},
   "outputs": [
    {
     "name": "stdout",
     "output_type": "stream",
     "text": [
      "(0, 1)\n",
      "(1, 2)\n",
      "(2, 3)\n",
      "(3, 4)\n",
      "(4, 5)\n",
      "(5, 6)\n",
      "(6, 7)\n",
      "(7, 8)\n",
      "(8, 9)\n"
     ]
    }
   ],
   "source": [
    "for i in enumerate(ThisTuple):\n",
    "    print(i)"
   ]
  },
  {
   "cell_type": "code",
   "execution_count": null,
   "id": "f61b202f-3e36-4241-a30b-f3be9851fac0",
   "metadata": {},
   "outputs": [],
   "source": [
    "Tuple Membership"
   ]
  },
  {
   "cell_type": "code",
   "execution_count": 32,
   "id": "85209ea2-c2b1-4877-bb6e-dee5d55c04ae",
   "metadata": {},
   "outputs": [
    {
     "data": {
      "text/plain": [
       "(1, 2, 3, 4, 5, 6, 7, 8, 9)"
      ]
     },
     "execution_count": 32,
     "metadata": {},
     "output_type": "execute_result"
    }
   ],
   "source": [
    "ThisTuple"
   ]
  },
  {
   "cell_type": "code",
   "execution_count": 33,
   "id": "71932579-98f8-4423-ab7e-dbc60b718856",
   "metadata": {},
   "outputs": [
    {
     "data": {
      "text/plain": [
       "False"
      ]
     },
     "execution_count": 33,
     "metadata": {},
     "output_type": "execute_result"
    }
   ],
   "source": [
    "10 in ThisTuple"
   ]
  },
  {
   "cell_type": "code",
   "execution_count": 34,
   "id": "ca2954d8-56e6-45ad-89a3-94fbc5743cf4",
   "metadata": {},
   "outputs": [
    {
     "data": {
      "text/plain": [
       "True"
      ]
     },
     "execution_count": 34,
     "metadata": {},
     "output_type": "execute_result"
    }
   ],
   "source": [
    "8 in ThisTuple"
   ]
  },
  {
   "cell_type": "code",
   "execution_count": 35,
   "id": "48a30a8c-2c1f-4e19-bc5b-8283324033cb",
   "metadata": {},
   "outputs": [
    {
     "name": "stdout",
     "output_type": "stream",
     "text": [
      "5 is present in ThisTuple\n"
     ]
    }
   ],
   "source": [
    "if 5 in ThisTuple:\n",
    "    print('5 is present in ThisTuple')\n",
    "else:\n",
    "    print('5 is not present in ThisTuple')"
   ]
  },
  {
   "cell_type": "code",
   "execution_count": null,
   "id": "0346be08-35e0-4117-8028-37a04f0d445d",
   "metadata": {},
   "outputs": [],
   "source": [
    "Index Position"
   ]
  },
  {
   "cell_type": "code",
   "execution_count": 36,
   "id": "cc7fe0ba-30c9-4396-8520-82ade9ea4c1c",
   "metadata": {},
   "outputs": [
    {
     "data": {
      "text/plain": [
       "(1, 2, 3, 4, 5, 6, 7, 8, 9)"
      ]
     },
     "execution_count": 36,
     "metadata": {},
     "output_type": "execute_result"
    }
   ],
   "source": [
    "ThisTuple"
   ]
  },
  {
   "cell_type": "code",
   "execution_count": 37,
   "id": "4285f11a-d334-4f94-9b63-ef6be7eecdad",
   "metadata": {},
   "outputs": [
    {
     "data": {
      "text/plain": [
       "5"
      ]
     },
     "execution_count": 37,
     "metadata": {},
     "output_type": "execute_result"
    }
   ],
   "source": [
    "ThisTuple.index(6)"
   ]
  },
  {
   "cell_type": "code",
   "execution_count": 38,
   "id": "3e79c0f3-8cb9-4795-b0af-f05549501314",
   "metadata": {},
   "outputs": [
    {
     "data": {
      "text/plain": [
       "8"
      ]
     },
     "execution_count": 38,
     "metadata": {},
     "output_type": "execute_result"
    }
   ],
   "source": [
    "ThisTuple.index(9)"
   ]
  },
  {
   "cell_type": "code",
   "execution_count": 39,
   "id": "25f7114b-5331-4265-89de-3b5fd49e89b9",
   "metadata": {},
   "outputs": [
    {
     "name": "stdout",
     "output_type": "stream",
     "text": [
      "5\n"
     ]
    }
   ],
   "source": [
    "print(ThisTuple[4])"
   ]
  },
  {
   "cell_type": "code",
   "execution_count": 40,
   "id": "f59ca918-d20a-4853-a798-42a00eac14ae",
   "metadata": {},
   "outputs": [
    {
     "name": "stdout",
     "output_type": "stream",
     "text": [
      "9\n"
     ]
    }
   ],
   "source": [
    "print(ThisTuple[-1])"
   ]
  },
  {
   "cell_type": "code",
   "execution_count": null,
   "id": "e1eeda70-f97c-477d-a4da-5800c2841e44",
   "metadata": {},
   "outputs": [],
   "source": [
    "Sorting"
   ]
  },
  {
   "cell_type": "code",
   "execution_count": 41,
   "id": "62fd5ad1-62e1-41e1-9b1d-b529dd5c3b5f",
   "metadata": {},
   "outputs": [],
   "source": [
    "ThisTuple2=(5,6,3,7,1,2,9,4)"
   ]
  },
  {
   "cell_type": "code",
   "execution_count": 42,
   "id": "0d63fbfb-708a-4c7d-aa84-f7433df8d853",
   "metadata": {},
   "outputs": [
    {
     "data": {
      "text/plain": [
       "[1, 2, 3, 4, 5, 6, 7, 9]"
      ]
     },
     "execution_count": 42,
     "metadata": {},
     "output_type": "execute_result"
    }
   ],
   "source": [
    "sorted(ThisTuple2)"
   ]
  },
  {
   "cell_type": "code",
   "execution_count": 43,
   "id": "fc557f8c-13bf-4c52-88db-5b5a8f950ef7",
   "metadata": {},
   "outputs": [
    {
     "data": {
      "text/plain": [
       "[9, 7, 6, 5, 4, 3, 2, 1]"
      ]
     },
     "execution_count": 43,
     "metadata": {},
     "output_type": "execute_result"
    }
   ],
   "source": [
    "sorted(ThisTuple2 , reverse=True)"
   ]
  },
  {
   "cell_type": "code",
   "execution_count": null,
   "id": "6953594c-390c-4f1a-9c41-84820cf0ef30",
   "metadata": {},
   "outputs": [],
   "source": []
  }
 ],
 "metadata": {
  "kernelspec": {
   "display_name": "Python 3 (ipykernel)",
   "language": "python",
   "name": "python3"
  },
  "language_info": {
   "codemirror_mode": {
    "name": "ipython",
    "version": 3
   },
   "file_extension": ".py",
   "mimetype": "text/x-python",
   "name": "python",
   "nbconvert_exporter": "python",
   "pygments_lexer": "ipython3",
   "version": "3.12.7"
  }
 },
 "nbformat": 4,
 "nbformat_minor": 5
}
