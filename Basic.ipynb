{
 "cells": [
  {
   "cell_type": "code",
   "execution_count": 1,
   "id": "5a8c569b-28f1-469c-98d7-273d7e5bc540",
   "metadata": {},
   "outputs": [
    {
     "name": "stdout",
     "output_type": "stream",
     "text": [
      "85.4\n"
     ]
    }
   ],
   "source": [
    "print(40 + 45.4) "
   ]
  },
  {
   "cell_type": "code",
   "execution_count": 2,
   "id": "80bc1714-2e00-413a-9347-7198cf5b515a",
   "metadata": {},
   "outputs": [
    {
     "name": "stdout",
     "output_type": "stream",
     "text": [
      "85\n"
     ]
    }
   ],
   "source": [
    "print(int(40 + 45.5))"
   ]
  },
  {
   "cell_type": "code",
   "execution_count": 3,
   "id": "7d7bffb7-70f9-45e6-b3d6-8611856bc461",
   "metadata": {},
   "outputs": [
    {
     "name": "stdout",
     "output_type": "stream",
     "text": [
      "27\n",
      "-19\n"
     ]
    }
   ],
   "source": [
    "print(50 - 23)\n",
    "print(23 - 42)"
   ]
  },
  {
   "cell_type": "code",
   "execution_count": 4,
   "id": "cdc1d3ca-1b60-4b8e-bb1e-0a3e6457f7ad",
   "metadata": {},
   "outputs": [
    {
     "name": "stdout",
     "output_type": "stream",
     "text": [
      "11\n"
     ]
    }
   ],
   "source": [
    "print(-(23-34))"
   ]
  },
  {
   "cell_type": "code",
   "execution_count": 5,
   "id": "dbfb1fe3-611c-40c8-bac4-62a368425506",
   "metadata": {},
   "outputs": [
    {
     "name": "stdout",
     "output_type": "stream",
     "text": [
      "-22.700000000000003\n"
     ]
    }
   ],
   "source": [
    "print(23-45.7)"
   ]
  },
  {
   "cell_type": "code",
   "execution_count": 6,
   "id": "9e9c6144-3a13-482e-a619-19b86f3b210e",
   "metadata": {},
   "outputs": [
    {
     "name": "stdout",
     "output_type": "stream",
     "text": [
      "-22\n"
     ]
    }
   ],
   "source": [
    "print(int(23-45.7))"
   ]
  },
  {
   "cell_type": "code",
   "execution_count": 7,
   "id": "f889e59a-9b61-4267-a9c2-004a8dbd795d",
   "metadata": {},
   "outputs": [
    {
     "name": "stdout",
     "output_type": "stream",
     "text": [
      "792.35\n"
     ]
    }
   ],
   "source": [
    "print(23*34.45)"
   ]
  },
  {
   "cell_type": "code",
   "execution_count": 8,
   "id": "8e3354b6-2a0f-46d3-924b-fe7b278bd488",
   "metadata": {},
   "outputs": [
    {
     "name": "stdout",
     "output_type": "stream",
     "text": [
      "792\n",
      "8.156877700688407e+46\n"
     ]
    }
   ],
   "source": [
    "print(int(23*34.45))\n",
    "print(23**34.45)"
   ]
  },
  {
   "cell_type": "code",
   "execution_count": 9,
   "id": "617206e4-cbb8-443f-bee0-569a74654e57",
   "metadata": {},
   "outputs": [
    {
     "name": "stdout",
     "output_type": "stream",
     "text": [
      "2520.0\n"
     ]
    }
   ],
   "source": [
    "print(float(45*56))"
   ]
  },
  {
   "cell_type": "code",
   "execution_count": 10,
   "id": "e90c66f4-ffbe-493d-8687-11e5576a47c8",
   "metadata": {},
   "outputs": [
    {
     "name": "stdout",
     "output_type": "stream",
     "text": [
      "1.096774193548387\n"
     ]
    }
   ],
   "source": [
    "print(34/31)  "
   ]
  },
  {
   "cell_type": "code",
   "execution_count": 11,
   "id": "e7f9f033-cecb-4867-a241-4a532fb2a4c4",
   "metadata": {},
   "outputs": [
    {
     "name": "stdout",
     "output_type": "stream",
     "text": [
      "1\n"
     ]
    }
   ],
   "source": [
    "print(34//31)"
   ]
  },
  {
   "cell_type": "code",
   "execution_count": 12,
   "id": "c3a56a31-5adb-4ccb-8b68-fa327d18c4b9",
   "metadata": {},
   "outputs": [
    {
     "name": "stdout",
     "output_type": "stream",
     "text": [
      "3\n"
     ]
    }
   ],
   "source": [
    "print(34%31)"
   ]
  },
  {
   "cell_type": "code",
   "execution_count": 13,
   "id": "321050d1-3cfb-4ab6-87ce-e510daff62de",
   "metadata": {},
   "outputs": [
    {
     "name": "stdout",
     "output_type": "stream",
     "text": [
      "3.0\n"
     ]
    }
   ],
   "source": [
    "print(float(34%31))"
   ]
  },
  {
   "cell_type": "code",
   "execution_count": 17,
   "id": "322bcfca-1d77-460b-938d-1e040b19218b",
   "metadata": {},
   "outputs": [
    {
     "name": "stdout",
     "output_type": "stream",
     "text": [
      "<class 'int'>\n",
      "<class 'float'>\n",
      "<class 'complex'>\n",
      "<class 'str'>\n",
      "<class 'list'>\n",
      "<class 'dict'>\n"
     ]
    }
   ],
   "source": [
    "print(type(12))\n",
    "print(type(123.34))\n",
    "print(type(23+3j))\n",
    "print(type(\"guntru...\"))\n",
    "print(type([2,3,4,5,6,7,45,33,23,123]))\n",
    "print(type({'name':'Tirupathamma'}))"
   ]
  },
  {
   "cell_type": "code",
   "execution_count": null,
   "id": "ed151372-0548-43c4-9633-91c3b435ae77",
   "metadata": {},
   "outputs": [],
   "source": []
  }
 ],
 "metadata": {
  "kernelspec": {
   "display_name": "Python 3 (ipykernel)",
   "language": "python",
   "name": "python3"
  },
  "language_info": {
   "codemirror_mode": {
    "name": "ipython",
    "version": 3
   },
   "file_extension": ".py",
   "mimetype": "text/x-python",
   "name": "python",
   "nbconvert_exporter": "python",
   "pygments_lexer": "ipython3",
   "version": "3.12.7"
  }
 },
 "nbformat": 4,
 "nbformat_minor": 5
}
