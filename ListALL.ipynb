{
 "cells": [
  {
   "cell_type": "code",
   "execution_count": 1,
   "id": "813eed35-c029-41f3-8a64-d744aa6c5e15",
   "metadata": {},
   "outputs": [
    {
     "data": {
      "text/plain": [
       "'   I am a hard working person   '"
      ]
     },
     "execution_count": 1,
     "metadata": {},
     "output_type": "execute_result"
    }
   ],
   "source": [
    "name = \"   I am a hard working person   \"\n",
    "name"
   ]
  },
  {
   "cell_type": "code",
   "execution_count": 2,
   "id": "d9162d75-7276-46c5-ad64-5d3afaabce9e",
   "metadata": {},
   "outputs": [
    {
     "data": {
      "text/plain": [
       "'I am a hard working person   '"
      ]
     },
     "execution_count": 2,
     "metadata": {},
     "output_type": "execute_result"
    }
   ],
   "source": [
    "name.lstrip() # remove left spaces"
   ]
  },
  {
   "cell_type": "code",
   "execution_count": 3,
   "id": "f03f5005-3cd3-4629-a184-228ed114a5d1",
   "metadata": {},
   "outputs": [
    {
     "data": {
      "text/plain": [
       "'   I am a hard working person'"
      ]
     },
     "execution_count": 3,
     "metadata": {},
     "output_type": "execute_result"
    }
   ],
   "source": [
    "name.rstrip() # remove right spaces"
   ]
  },
  {
   "cell_type": "code",
   "execution_count": 4,
   "id": "c6260061-43ae-4341-82f2-7cc106001974",
   "metadata": {},
   "outputs": [
    {
     "data": {
      "text/plain": [
       "'I am a hard working person'"
      ]
     },
     "execution_count": 4,
     "metadata": {},
     "output_type": "execute_result"
    }
   ],
   "source": [
    "name.strip() # remove left and right spaces"
   ]
  },
  {
   "cell_type": "code",
   "execution_count": null,
   "id": "eb297eb0-f248-4919-b0de-eec3279e4a9a",
   "metadata": {},
   "outputs": [],
   "source": [
    "#Using Escape Character ('\\')\n",
    "                        "
   ]
  },
  {
   "cell_type": "code",
   "execution_count": 5,
   "id": "c4514234-bc9d-4681-9309-c5b42fc763ef",
   "metadata": {},
   "outputs": [
    {
     "data": {
      "text/plain": [
       "'Practising different programming languages like \"Pytho\" etc;'"
      ]
     },
     "execution_count": 5,
     "metadata": {},
     "output_type": "execute_result"
    }
   ],
   "source": [
    "mystr = 'Practising different programming languages like \\\"Pytho\\\" etc;'\n",
    "mystr"
   ]
  },
  {
   "cell_type": "code",
   "execution_count": 6,
   "id": "a3c52cb7-9c98-41ea-9268-32ab4e4924ff",
   "metadata": {},
   "outputs": [
    {
     "data": {
      "text/plain": [
       "'Practising different programming languages like \"Pytho\" etc;'"
      ]
     },
     "execution_count": 6,
     "metadata": {},
     "output_type": "execute_result"
    }
   ],
   "source": [
    "# using double quotes \n",
    "mystr = \"Practising different programming languages like \\\"Pytho\\\" etc;\"\n",
    "mystr"
   ]
  },
  {
   "cell_type": "code",
   "execution_count": null,
   "id": "aff16609-559d-48d0-b9d4-5ee78600420c",
   "metadata": {},
   "outputs": [],
   "source": [
    "List"
   ]
  },
  {
   "cell_type": "code",
   "execution_count": 7,
   "id": "a0cabefd-cd08-47df-8a16-51db241c6d1f",
   "metadata": {},
   "outputs": [
    {
     "data": {
      "text/plain": [
       "[]"
      ]
     },
     "execution_count": 7,
     "metadata": {},
     "output_type": "execute_result"
    }
   ],
   "source": [
    "myList = [] # empty list\n",
    "myList"
   ]
  },
  {
   "cell_type": "code",
   "execution_count": 8,
   "id": "6500278e-19ad-42b3-910f-47a2abbf6bb7",
   "metadata": {},
   "outputs": [
    {
     "name": "stdout",
     "output_type": "stream",
     "text": [
      "<class 'list'>\n"
     ]
    }
   ],
   "source": [
    "print(type(myList))"
   ]
  },
  {
   "cell_type": "code",
   "execution_count": 9,
   "id": "eb42a1c6-4f37-4016-8296-a06c1c3a2a0d",
   "metadata": {},
   "outputs": [
    {
     "data": {
      "text/plain": [
       "[30, 60, 90]"
      ]
     },
     "execution_count": 9,
     "metadata": {},
     "output_type": "execute_result"
    }
   ],
   "source": [
    "myList2 = [30,60, 90] # list of integers\n",
    "myList2"
   ]
  },
  {
   "cell_type": "code",
   "execution_count": 10,
   "id": "e3d6d8c8-cbe1-48c1-89fb-932dfdc56971",
   "metadata": {},
   "outputs": [
    {
     "data": {
      "text/plain": [
       "[3.14, 2.22, 3.55]"
      ]
     },
     "execution_count": 10,
     "metadata": {},
     "output_type": "execute_result"
    }
   ],
   "source": [
    "myListFloat = [3.14, 2.22, 3.55] # list with floats\n",
    "myListFloat"
   ]
  },
  {
   "cell_type": "code",
   "execution_count": 11,
   "id": "924ef47b-1d0f-4d2d-af12-567f1b73a048",
   "metadata": {},
   "outputs": [
    {
     "data": {
      "text/plain": [
       "['Vedasree', 'Meenusree', 'Harika']"
      ]
     },
     "execution_count": 11,
     "metadata": {},
     "output_type": "execute_result"
    }
   ],
   "source": [
    "myListString =[ 'Vedasree', 'Meenusree', 'Harika'] # list of string\n",
    "myListString"
   ]
  },
  {
   "cell_type": "code",
   "execution_count": 12,
   "id": "f1284bd7-492e-43f5-a53c-565e32cfd104",
   "metadata": {},
   "outputs": [
    {
     "data": {
      "text/plain": [
       "['values', [], [30, 60, 90], [3.14, 2.22, 3.55]]"
      ]
     },
     "execution_count": 12,
     "metadata": {},
     "output_type": "execute_result"
    }
   ],
   "source": [
    "nestedList = ['values', [], [30,60, 90],[3.14, 2.22, 3.55]] # Nested List or Nested list with different data types\n",
    "nestedList"
   ]
  },
  {
   "cell_type": "code",
   "execution_count": 13,
   "id": "a8259eb6-4bfd-4bda-b57e-6eb571e232cc",
   "metadata": {},
   "outputs": [
    {
     "data": {
      "text/plain": [
       "4"
      ]
     },
     "execution_count": 13,
     "metadata": {},
     "output_type": "execute_result"
    }
   ],
   "source": [
    "len(nestedList) # gets the numbers of list items (nested will be consider as single item only)"
   ]
  },
  {
   "cell_type": "code",
   "execution_count": 14,
   "id": "401b0cea-79f4-499f-a8ae-73523eec2e3b",
   "metadata": {},
   "outputs": [],
   "source": [
    "# Forward index (left to right)\n",
    "# Backward index (right to left)"
   ]
  },
  {
   "cell_type": "code",
   "execution_count": 15,
   "id": "93e44363-dedb-4461-b167-cfffd309ee05",
   "metadata": {},
   "outputs": [
    {
     "data": {
      "text/plain": [
       "[30, 60, 90]"
      ]
     },
     "execution_count": 15,
     "metadata": {},
     "output_type": "execute_result"
    }
   ],
   "source": [
    "nestedList[2] # gets the second index list item"
   ]
  },
  {
   "cell_type": "code",
   "execution_count": 16,
   "id": "906135e5-f2a6-4d83-9105-888dd5a3fa26",
   "metadata": {},
   "outputs": [
    {
     "data": {
      "text/plain": [
       "[]"
      ]
     },
     "execution_count": 16,
     "metadata": {},
     "output_type": "execute_result"
    }
   ],
   "source": [
    "nestedList[-3] # gets the backward index list item"
   ]
  },
  {
   "cell_type": "code",
   "execution_count": null,
   "id": "ff32de12-d830-4089-881b-6f2e4b08ae1e",
   "metadata": {},
   "outputs": [],
   "source": [
    "List Sclicing"
   ]
  },
  {
   "cell_type": "code",
   "execution_count": 17,
   "id": "d3bf2a9a-c7a9-457c-82b9-5959734f7be0",
   "metadata": {},
   "outputs": [
    {
     "data": {
      "text/plain": [
       "['mango',\n",
       " 'banana',\n",
       " 'apple',\n",
       " 'gova',\n",
       " 'avacado',\n",
       " 'pinaple',\n",
       " 'mosambee',\n",
       " 'watermilon']"
      ]
     },
     "execution_count": 17,
     "metadata": {},
     "output_type": "execute_result"
    }
   ],
   "source": [
    "listofFruits = ['mango', 'banana', 'apple', 'gova', 'avacado','pinaple', 'mosambee', 'watermilon']\n",
    "listofFruits"
   ]
  },
  {
   "cell_type": "code",
   "execution_count": 18,
   "id": "8be66503-e74f-4afc-b831-ee7f2d6a2588",
   "metadata": {},
   "outputs": [
    {
     "data": {
      "text/plain": [
       "['mango', 'banana', 'apple']"
      ]
     },
     "execution_count": 18,
     "metadata": {},
     "output_type": "execute_result"
    }
   ],
   "source": [
    "listofFruits[0:3] # gets the list of items from 0 to 2 (index forward formula works as (n-1))"
   ]
  },
  {
   "cell_type": "code",
   "execution_count": 19,
   "id": "34b60abf-65f1-4992-a0ff-13e9577c977d",
   "metadata": {},
   "outputs": [
    {
     "data": {
      "text/plain": [
       "['apple', 'gova', 'avacado']"
      ]
     },
     "execution_count": 19,
     "metadata": {},
     "output_type": "execute_result"
    }
   ],
   "source": [
    "listofFruits[2:5] # gets the list of items from 2 to 4"
   ]
  },
  {
   "cell_type": "code",
   "execution_count": 20,
   "id": "e3c4bc5e-9ee2-42bf-8a3e-643ead1ce3b6",
   "metadata": {},
   "outputs": [
    {
     "data": {
      "text/plain": [
       "['mango', 'banana', 'apple']"
      ]
     },
     "execution_count": 20,
     "metadata": {},
     "output_type": "execute_result"
    }
   ],
   "source": [
    "listofFruits[:3] # gets first three items"
   ]
  },
  {
   "cell_type": "code",
   "execution_count": 21,
   "id": "a75c9a3a-d0bf-441d-b1c4-b3aad434c080",
   "metadata": {},
   "outputs": [
    {
     "data": {
      "text/plain": [
       "['pinaple', 'mosambee', 'watermilon']"
      ]
     },
     "execution_count": 21,
     "metadata": {},
     "output_type": "execute_result"
    }
   ],
   "source": [
    "listofFruits[-3:] # gets last three items"
   ]
  },
  {
   "cell_type": "code",
   "execution_count": 22,
   "id": "14c25ab5-7d63-47fe-9e43-b6ae008ced12",
   "metadata": {},
   "outputs": [
    {
     "data": {
      "text/plain": [
       "'mosambee'"
      ]
     },
     "execution_count": 22,
     "metadata": {},
     "output_type": "execute_result"
    }
   ],
   "source": [
    "listofFruits[-2] # gets the last second item from the list"
   ]
  },
  {
   "cell_type": "code",
   "execution_count": 23,
   "id": "e66477e5-9e9f-4e2a-9c7f-28ba520ecbd2",
   "metadata": {},
   "outputs": [
    {
     "data": {
      "text/plain": [
       "['mango',\n",
       " 'banana',\n",
       " 'apple',\n",
       " 'gova',\n",
       " 'avacado',\n",
       " 'pinaple',\n",
       " 'mosambee',\n",
       " 'watermilon']"
      ]
     },
     "execution_count": 23,
     "metadata": {},
     "output_type": "execute_result"
    }
   ],
   "source": [
    "listofFruits[:] # returns whole list"
   ]
  },
  {
   "cell_type": "code",
   "execution_count": 24,
   "id": "907cad0f-374b-45f1-b8a4-8bb2911e9355",
   "metadata": {},
   "outputs": [
    {
     "data": {
      "text/plain": [
       "['mango',\n",
       " 'banana',\n",
       " 'apple',\n",
       " 'gova',\n",
       " 'avacado',\n",
       " 'pinaple',\n",
       " 'mosambee',\n",
       " 'watermilon']"
      ]
     },
     "execution_count": 24,
     "metadata": {},
     "output_type": "execute_result"
    }
   ],
   "source": [
    "listofFruits[:10] # before 10th index items from the list"
   ]
  },
  {
   "cell_type": "code",
   "execution_count": 25,
   "id": "62ab5afa-af44-46e2-942e-1ecdb252bccf",
   "metadata": {},
   "outputs": [
    {
     "data": {
      "text/plain": [
       "['banana', 'apple', 'gova', 'avacado', 'pinaple', 'mosambee', 'watermilon']"
      ]
     },
     "execution_count": 25,
     "metadata": {},
     "output_type": "execute_result"
    }
   ],
   "source": [
    "listofFruits[1:] # after first index items from the list"
   ]
  },
  {
   "cell_type": "code",
   "execution_count": null,
   "id": "f754a516-714f-41e7-ae8a-86f495bbe860",
   "metadata": {},
   "outputs": [],
   "source": [
    "Add remove items from the list\n"
   ]
  },
  {
   "cell_type": "code",
   "execution_count": 26,
   "id": "dd84adc4-510e-42a6-9dd1-618b893b840c",
   "metadata": {},
   "outputs": [
    {
     "data": {
      "text/plain": [
       "['mango',\n",
       " 'banana',\n",
       " 'apple',\n",
       " 'gova',\n",
       " 'avacado',\n",
       " 'pinaple',\n",
       " 'mosambee',\n",
       " 'watermilon']"
      ]
     },
     "execution_count": 26,
     "metadata": {},
     "output_type": "execute_result"
    }
   ],
   "source": [
    "listofFruits\n"
   ]
  },
  {
   "cell_type": "code",
   "execution_count": 27,
   "id": "3bcf1ad6-639c-41a5-b3b5-18bdcbeb5c07",
   "metadata": {},
   "outputs": [],
   "source": [
    "listofFruits.append('dragon fruit') #Adding a new fruit into the list item"
   ]
  },
  {
   "cell_type": "code",
   "execution_count": 28,
   "id": "d6d4c0f4-a4c3-44f4-9cee-a86179065c1d",
   "metadata": {},
   "outputs": [
    {
     "data": {
      "text/plain": [
       "['mango',\n",
       " 'banana',\n",
       " 'apple',\n",
       " 'gova',\n",
       " 'avacado',\n",
       " 'pinaple',\n",
       " 'mosambee',\n",
       " 'watermilon',\n",
       " 'dragon fruit']"
      ]
     },
     "execution_count": 28,
     "metadata": {},
     "output_type": "execute_result"
    }
   ],
   "source": [
    "listofFruits"
   ]
  },
  {
   "cell_type": "code",
   "execution_count": 29,
   "id": "d691d2c1-4370-4c0c-b0d0-269a3e971892",
   "metadata": {},
   "outputs": [
    {
     "data": {
      "text/plain": [
       "['mango',\n",
       " 'banana',\n",
       " 'apple',\n",
       " 'grapes',\n",
       " 'gova',\n",
       " 'avacado',\n",
       " 'pinaple',\n",
       " 'mosambee',\n",
       " 'watermilon',\n",
       " 'dragon fruit']"
      ]
     },
     "execution_count": 29,
     "metadata": {},
     "output_type": "execute_result"
    }
   ],
   "source": [
    "listofFruits.insert(3,'grapes') #Adding a new fruit item at index 3\n",
    "listofFruits"
   ]
  },
  {
   "cell_type": "code",
   "execution_count": 30,
   "id": "05bca2aa-3344-4c1a-88f2-8a084768ee36",
   "metadata": {},
   "outputs": [
    {
     "data": {
      "text/plain": [
       "['mango',\n",
       " 'banana',\n",
       " 'apple',\n",
       " 'grapes',\n",
       " 'gova',\n",
       " 'avacado',\n",
       " 'pinaple',\n",
       " 'mosambee',\n",
       " 'watermilon']"
      ]
     },
     "execution_count": 30,
     "metadata": {},
     "output_type": "execute_result"
    }
   ],
   "source": [
    "listofFruits.pop() # removes the last element from the list\n",
    "listofFruits"
   ]
  },
  {
   "cell_type": "code",
   "execution_count": 31,
   "id": "6f45caf2-ceb6-4fed-af72-527ac3452533",
   "metadata": {},
   "outputs": [
    {
     "data": {
      "text/plain": [
       "['mango',\n",
       " 'banana',\n",
       " 'apple',\n",
       " 'gova',\n",
       " 'avacado',\n",
       " 'pinaple',\n",
       " 'mosambee',\n",
       " 'watermilon']"
      ]
     },
     "execution_count": 31,
     "metadata": {},
     "output_type": "execute_result"
    }
   ],
   "source": [
    "listofFruits.pop(3) # removes the item from the thrid index\n",
    "listofFruits"
   ]
  },
  {
   "cell_type": "code",
   "execution_count": 32,
   "id": "99c77f71-5392-481b-a981-fc519f1a1973",
   "metadata": {},
   "outputs": [],
   "source": [
    "listofFruits[1] = 'dragon' # change the element of the list"
   ]
  },
  {
   "cell_type": "code",
   "execution_count": 33,
   "id": "ba519374-023e-40cd-a77f-7d3499be7f25",
   "metadata": {},
   "outputs": [
    {
     "data": {
      "text/plain": [
       "['mango',\n",
       " 'dragon',\n",
       " 'apple',\n",
       " 'gova',\n",
       " 'avacado',\n",
       " 'pinaple',\n",
       " 'mosambee',\n",
       " 'watermilon']"
      ]
     },
     "execution_count": 33,
     "metadata": {},
     "output_type": "execute_result"
    }
   ],
   "source": [
    "listofFruits"
   ]
  },
  {
   "cell_type": "code",
   "execution_count": 34,
   "id": "979c5221-2cb4-45df-98bb-5fe2b366ff0d",
   "metadata": {},
   "outputs": [
    {
     "data": {
      "text/plain": [
       "['mango', 'dragon', 'apple', 'gova', 'avacado', 'mosambee', 'watermilon']"
      ]
     },
     "execution_count": 34,
     "metadata": {},
     "output_type": "execute_result"
    }
   ],
   "source": [
    "listofFruits.remove('pinaple')\n",
    "listofFruits"
   ]
  },
  {
   "cell_type": "code",
   "execution_count": 35,
   "id": "0bf8eefc-7560-42fd-a4c5-205369084f1c",
   "metadata": {},
   "outputs": [
    {
     "data": {
      "text/plain": [
       "[]"
      ]
     },
     "execution_count": 35,
     "metadata": {},
     "output_type": "execute_result"
    }
   ],
   "source": [
    "listofFruits.clear()\n",
    "listofFruits"
   ]
  },
  {
   "cell_type": "code",
   "execution_count": 36,
   "id": "5d0b7ddc-7fc5-41b1-a2ab-7dd4881c1c4a",
   "metadata": {},
   "outputs": [],
   "source": [
    "del listofFruits"
   ]
  },
  {
   "cell_type": "code",
   "execution_count": 37,
   "id": "5039982f-e869-4712-a828-234181da6342",
   "metadata": {},
   "outputs": [
    {
     "ename": "NameError",
     "evalue": "name 'listofFruits' is not defined",
     "output_type": "error",
     "traceback": [
      "\u001b[1;31m---------------------------------------------------------------------------\u001b[0m",
      "\u001b[1;31mNameError\u001b[0m                                 Traceback (most recent call last)",
      "Cell \u001b[1;32mIn[37], line 1\u001b[0m\n\u001b[1;32m----> 1\u001b[0m listofFruits\n",
      "\u001b[1;31mNameError\u001b[0m: name 'listofFruits' is not defined"
     ]
    }
   ],
   "source": [
    "listofFruits\n"
   ]
  },
  {
   "cell_type": "code",
   "execution_count": null,
   "id": "9fa5512d-17d3-4aee-87f2-c3c56ca03f60",
   "metadata": {},
   "outputs": [],
   "source": [
    "Copy List\n"
   ]
  },
  {
   "cell_type": "code",
   "execution_count": 38,
   "id": "881d16a3-8fa1-4f04-8d49-3b8f33d42cfa",
   "metadata": {},
   "outputs": [
    {
     "data": {
      "text/plain": [
       "['one', 'two', 'three', 'four', 'five', 'six', 'seven', 'eight', 'nine', 'ten']"
      ]
     },
     "execution_count": 38,
     "metadata": {},
     "output_type": "execute_result"
    }
   ],
   "source": [
    "mylist =['one', 'two', 'three', 'four', 'five', 'six', 'seven', 'eight', 'nine', 'ten']\n",
    "mylist"
   ]
  },
  {
   "cell_type": "code",
   "execution_count": 39,
   "id": "cc971e08-e76b-4b16-81c6-327519886c5b",
   "metadata": {},
   "outputs": [],
   "source": [
    "mylist1 = mylist # creating a new list"
   ]
  },
  {
   "cell_type": "code",
   "execution_count": 40,
   "id": "a87c1fd4-8e54-4851-89d3-36ee16636307",
   "metadata": {},
   "outputs": [
    {
     "data": {
      "text/plain": [
       "['one', 'two', 'three', 'four', 'five', 'six', 'seven', 'eight', 'nine', 'ten']"
      ]
     },
     "execution_count": 40,
     "metadata": {},
     "output_type": "execute_result"
    }
   ],
   "source": [
    "mylist1"
   ]
  },
  {
   "cell_type": "code",
   "execution_count": 41,
   "id": "0c561379-83dc-4512-9cf8-2d863d469c73",
   "metadata": {},
   "outputs": [
    {
     "data": {
      "text/plain": [
       "(1829865539648, 1829865539648)"
      ]
     },
     "execution_count": 41,
     "metadata": {},
     "output_type": "execute_result"
    }
   ],
   "source": [
    "id(mylist), id(mylist1)"
   ]
  },
  {
   "cell_type": "code",
   "execution_count": 42,
   "id": "53bb05e0-e5cf-4fd9-8119-42d14b3f4add",
   "metadata": {},
   "outputs": [
    {
     "data": {
      "text/plain": [
       "['one', 'two', 'three', 'four', 'five', 'six', 'seven', 'eight', 'nine', 'ten']"
      ]
     },
     "execution_count": 42,
     "metadata": {},
     "output_type": "execute_result"
    }
   ],
   "source": [
    "mylist2 = mylist1.copy() # copies the data to the new list\n",
    "mylist2"
   ]
  },
  {
   "cell_type": "code",
   "execution_count": 43,
   "id": "88ac4155-3b48-4730-a8d0-2978eb4a08b4",
   "metadata": {},
   "outputs": [
    {
     "data": {
      "text/plain": [
       "(1829865539648, 1829865547392)"
      ]
     },
     "execution_count": 43,
     "metadata": {},
     "output_type": "execute_result"
    }
   ],
   "source": [
    "id(mylist1), id(mylist2) # the address will be different as when copy the a seperate mempry will be allocated"
   ]
  },
  {
   "cell_type": "code",
   "execution_count": 44,
   "id": "68206b67-de68-4640-b82f-280bcb304008",
   "metadata": {},
   "outputs": [
    {
     "data": {
      "text/plain": [
       "['one', 'two', 'three', 1, 'five', 'six', 'seven', 'eight', 'nine', 'ten']"
      ]
     },
     "execution_count": 44,
     "metadata": {},
     "output_type": "execute_result"
    }
   ],
   "source": [
    "# overwrite data at the 3rd position of the list\n",
    "mylist[3] = 1\n",
    "mylist"
   ]
  },
  {
   "cell_type": "code",
   "execution_count": null,
   "id": "bd11a9dc-cc85-45de-9163-d2c779fd10b5",
   "metadata": {},
   "outputs": [],
   "source": [
    "Join List\n"
   ]
  },
  {
   "cell_type": "code",
   "execution_count": 46,
   "id": "80eb11f6-2fd8-471e-b858-9f92f4314079",
   "metadata": {},
   "outputs": [],
   "source": [
    "list1 = ['one', 'two', 'three', 'four']\n",
    "list2 = ['five', 'six', 'seven']\n",
    "list3 = list1 + list2 # concatenate two list into new list\n",
    "list1.extend(list2) # merges two list into a single list"
   ]
  },
  {
   "cell_type": "code",
   "execution_count": 47,
   "id": "9944d6eb-15d2-4448-a938-278f2f373604",
   "metadata": {},
   "outputs": [
    {
     "name": "stdout",
     "output_type": "stream",
     "text": [
      "['one', 'two', 'three', 'four', 'five', 'six', 'seven']\n",
      "['one', 'two', 'three', 'four', 'five', 'six', 'seven']\n"
     ]
    }
   ],
   "source": [
    "print(list3)\n",
    "print(list1)"
   ]
  },
  {
   "cell_type": "code",
   "execution_count": null,
   "id": "a2a590f8-bd5b-419a-8e4f-e46a039d6354",
   "metadata": {},
   "outputs": [],
   "source": [
    "List Membership"
   ]
  },
  {
   "cell_type": "code",
   "execution_count": 48,
   "id": "e014b0cc-8ba4-4338-94ab-f80996edaa82",
   "metadata": {},
   "outputs": [
    {
     "data": {
      "text/plain": [
       "['one', 'two', 'three', 'four', 'five', 'six', 'seven']"
      ]
     },
     "execution_count": 48,
     "metadata": {},
     "output_type": "execute_result"
    }
   ],
   "source": [
    "list1"
   ]
  },
  {
   "cell_type": "code",
   "execution_count": 49,
   "id": "1104786f-eb14-464b-af2e-f812862d5198",
   "metadata": {},
   "outputs": [
    {
     "data": {
      "text/plain": [
       "True"
      ]
     },
     "execution_count": 49,
     "metadata": {},
     "output_type": "execute_result"
    }
   ],
   "source": [
    "'one' in list1 # checks and displays 'True' is exists"
   ]
  },
  {
   "cell_type": "code",
   "execution_count": 50,
   "id": "fe290cb8-f066-41ba-8945-d46b878afe9d",
   "metadata": {},
   "outputs": [
    {
     "data": {
      "text/plain": [
       "['five', 'six', 'seven']"
      ]
     },
     "execution_count": 50,
     "metadata": {},
     "output_type": "execute_result"
    }
   ],
   "source": [
    "list2"
   ]
  },
  {
   "cell_type": "code",
   "execution_count": 51,
   "id": "39eeb9e0-0961-4513-84da-131510c15c12",
   "metadata": {},
   "outputs": [
    {
     "data": {
      "text/plain": [
       "False"
      ]
     },
     "execution_count": 51,
     "metadata": {},
     "output_type": "execute_result"
    }
   ],
   "source": [
    "'one' in list2 # checks and displays 'False' if not exists"
   ]
  },
  {
   "cell_type": "code",
   "execution_count": 52,
   "id": "7773ef21-8a5f-4312-9a12-32a859cfa4ed",
   "metadata": {},
   "outputs": [
    {
     "name": "stdout",
     "output_type": "stream",
     "text": [
      "found in the list1\n"
     ]
    }
   ],
   "source": [
    "if ('two' in list1):\n",
    "    print('found in the list1')\n",
    "else:\n",
    "    print('Not found in the list1')"
   ]
  },
  {
   "cell_type": "code",
   "execution_count": null,
   "id": "b88467c1-504c-495b-83b7-2b875b1b9f52",
   "metadata": {},
   "outputs": [],
   "source": [
    "Reverse and sort list\n"
   ]
  },
  {
   "cell_type": "code",
   "execution_count": 53,
   "id": "91bd91d6-efcf-4405-b5ba-bc312297ca2c",
   "metadata": {},
   "outputs": [
    {
     "data": {
      "text/plain": [
       "['one', 'two', 'three', 'four', 'five', 'six', 'seven']"
      ]
     },
     "execution_count": 53,
     "metadata": {},
     "output_type": "execute_result"
    }
   ],
   "source": [
    "list1"
   ]
  },
  {
   "cell_type": "code",
   "execution_count": 57,
   "id": "3b6f5f95-68e3-4d1a-8e02-9c32f675a17f",
   "metadata": {},
   "outputs": [
    {
     "data": {
      "text/plain": [
       "['seven', 'six', 'five', 'four', 'three', 'two', 'one']"
      ]
     },
     "execution_count": 57,
     "metadata": {},
     "output_type": "execute_result"
    }
   ],
   "source": [
    "list1.reverse() # Reverse the list\n",
    "list1 "
   ]
  },
  {
   "cell_type": "code",
   "execution_count": 58,
   "id": "dee3451c-8c2e-4d36-b00e-b8f0a66db2c4",
   "metadata": {},
   "outputs": [
    {
     "data": {
      "text/plain": [
       "['one', 'two', 'three', 'four', 'five', 'six', 'seven']"
      ]
     },
     "execution_count": 58,
     "metadata": {},
     "output_type": "execute_result"
    }
   ],
   "source": [
    "list1 = list1[::-1] # Reverse the lsit\n",
    "list1"
   ]
  },
  {
   "cell_type": "code",
   "execution_count": 59,
   "id": "79ec2b2f-5d8f-4ced-8021-1d68b5776183",
   "metadata": {},
   "outputs": [
    {
     "data": {
      "text/plain": [
       "[4, 3, 7, 5, 9, 0]"
      ]
     },
     "execution_count": 59,
     "metadata": {},
     "output_type": "execute_result"
    }
   ],
   "source": [
    "mylist2 = [4, 3, 7, 5, 9, 0]\n",
    "mylist2"
   ]
  },
  {
   "cell_type": "code",
   "execution_count": 60,
   "id": "90f617f3-fe17-444c-84e4-ca0a9c3366f7",
   "metadata": {},
   "outputs": [],
   "source": [
    "mylist2.sort() # sort list to ascending order"
   ]
  },
  {
   "cell_type": "code",
   "execution_count": 61,
   "id": "b7a7cb40-b59c-461d-9888-b36f7bf72803",
   "metadata": {},
   "outputs": [
    {
     "data": {
      "text/plain": [
       "[0, 3, 4, 5, 7, 9]"
      ]
     },
     "execution_count": 61,
     "metadata": {},
     "output_type": "execute_result"
    }
   ],
   "source": [
    "mylist2"
   ]
  },
  {
   "cell_type": "code",
   "execution_count": 62,
   "id": "30ec7e8f-2e85-4fe8-a000-75ef07a5c4db",
   "metadata": {},
   "outputs": [],
   "source": [
    "mylist2.sort(reverse=True) # sort decending order of the list"
   ]
  },
  {
   "cell_type": "code",
   "execution_count": 63,
   "id": "112aa5fb-dce7-4969-b21f-d907fa4926df",
   "metadata": {},
   "outputs": [
    {
     "data": {
      "text/plain": [
       "[9, 7, 5, 4, 3, 0]"
      ]
     },
     "execution_count": 63,
     "metadata": {},
     "output_type": "execute_result"
    }
   ],
   "source": [
    "mylist2"
   ]
  },
  {
   "cell_type": "code",
   "execution_count": null,
   "id": "2909af15-a86c-40c4-a354-326fc267c4fa",
   "metadata": {},
   "outputs": [],
   "source": [
    "Loop through the list elements"
   ]
  },
  {
   "cell_type": "code",
   "execution_count": 64,
   "id": "7b8eda5c-2eb3-46c5-8a0f-09f7962410f1",
   "metadata": {},
   "outputs": [
    {
     "name": "stdout",
     "output_type": "stream",
     "text": [
      "one\n",
      "two\n",
      "three\n",
      "four\n",
      "five\n",
      "six\n",
      "seven\n"
     ]
    }
   ],
   "source": [
    "for i in list1:\n",
    "    print(i)"
   ]
  },
  {
   "cell_type": "code",
   "execution_count": 65,
   "id": "a9416728-92c8-4f9f-9581-08d9a4d1be03",
   "metadata": {},
   "outputs": [
    {
     "name": "stdout",
     "output_type": "stream",
     "text": [
      "(0, 'one')\n",
      "(1, 'two')\n",
      "(2, 'three')\n",
      "(3, 'four')\n",
      "(4, 'five')\n",
      "(5, 'six')\n",
      "(6, 'seven')\n"
     ]
    }
   ],
   "source": [
    "for i in enumerate(list1):\n",
    "    print(i)"
   ]
  },
  {
   "cell_type": "code",
   "execution_count": 66,
   "id": "6ff892c5-c759-40c8-9e9b-bb5cce65b25a",
   "metadata": {},
   "outputs": [
    {
     "data": {
      "text/plain": [
       "['one', 'two', 'three', 'four', 'five', 'one', 'two']"
      ]
     },
     "execution_count": 66,
     "metadata": {},
     "output_type": "execute_result"
    }
   ],
   "source": [
    "list10 =['one', 'two', 'three', 'four', 'five', 'one', 'two']\n",
    "list10\n"
   ]
  },
  {
   "cell_type": "code",
   "execution_count": 67,
   "id": "d0ca58e9-a3d1-47cf-841d-6745859ba388",
   "metadata": {},
   "outputs": [
    {
     "data": {
      "text/plain": [
       "2"
      ]
     },
     "execution_count": 67,
     "metadata": {},
     "output_type": "execute_result"
    }
   ],
   "source": [
    "list10.count('one')"
   ]
  },
  {
   "cell_type": "code",
   "execution_count": 68,
   "id": "3beff430-57f0-4287-9b9a-644a6bf2d127",
   "metadata": {},
   "outputs": [
    {
     "data": {
      "text/plain": [
       "[0, 1, 2, 3, 4, 5]"
      ]
     },
     "execution_count": 68,
     "metadata": {},
     "output_type": "execute_result"
    }
   ],
   "source": [
    "L1 =[0,1,2,3,4,5]\n",
    "L1"
   ]
  },
  {
   "cell_type": "code",
   "execution_count": 69,
   "id": "0df80e78-86e9-490d-b5f3-51f1d46695a0",
   "metadata": {},
   "outputs": [
    {
     "data": {
      "text/plain": [
       "False"
      ]
     },
     "execution_count": 69,
     "metadata": {},
     "output_type": "execute_result"
    }
   ],
   "source": [
    "all(L1) # Will Return false as one value is false (Value 0)"
   ]
  },
  {
   "cell_type": "code",
   "execution_count": 70,
   "id": "eab761c6-93df-4d95-bcec-14cbe8fa4005",
   "metadata": {},
   "outputs": [
    {
     "data": {
      "text/plain": [
       "True"
      ]
     },
     "execution_count": 70,
     "metadata": {},
     "output_type": "execute_result"
    }
   ],
   "source": [
    "any(L1) # Will Return True as we have items in the list with True value"
   ]
  },
  {
   "cell_type": "code",
   "execution_count": null,
   "id": "ded02e9b-ca5f-482f-a665-edd98cde8e5c",
   "metadata": {},
   "outputs": [],
   "source": []
  }
 ],
 "metadata": {
  "kernelspec": {
   "display_name": "Python 3 (ipykernel)",
   "language": "python",
   "name": "python3"
  },
  "language_info": {
   "codemirror_mode": {
    "name": "ipython",
    "version": 3
   },
   "file_extension": ".py",
   "mimetype": "text/x-python",
   "name": "python",
   "nbconvert_exporter": "python",
   "pygments_lexer": "ipython3",
   "version": "3.12.7"
  }
 },
 "nbformat": 4,
 "nbformat_minor": 5
}
