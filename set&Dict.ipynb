{
 "cells": [
  {
   "cell_type": "code",
   "execution_count": 1,
   "id": "0d283475-b4e9-4236-a632-c5d4d0251935",
   "metadata": {},
   "outputs": [
    {
     "data": {
      "text/plain": [
       "{}"
      ]
     },
     "execution_count": 1,
     "metadata": {},
     "output_type": "execute_result"
    }
   ],
   "source": [
    "s={}\n",
    "s"
   ]
  },
  {
   "cell_type": "code",
   "execution_count": 2,
   "id": "337dffe0-6a45-42db-8443-63c514d479d0",
   "metadata": {},
   "outputs": [
    {
     "data": {
      "text/plain": [
       "dict"
      ]
     },
     "execution_count": 2,
     "metadata": {},
     "output_type": "execute_result"
    }
   ],
   "source": [
    "type(s)"
   ]
  },
  {
   "cell_type": "code",
   "execution_count": 3,
   "id": "a18154f7-569a-4ca1-8071-bb90dda3b0a5",
   "metadata": {},
   "outputs": [
    {
     "data": {
      "text/plain": [
       "dict"
      ]
     },
     "execution_count": 3,
     "metadata": {},
     "output_type": "execute_result"
    }
   ],
   "source": [
    "type(s)"
   ]
  },
  {
   "cell_type": "code",
   "execution_count": 4,
   "id": "945b428f-04b1-413b-aaf2-baa994785d9a",
   "metadata": {},
   "outputs": [
    {
     "data": {
      "text/plain": [
       "dict"
      ]
     },
     "execution_count": 4,
     "metadata": {},
     "output_type": "execute_result"
    }
   ],
   "source": [
    "type(s)"
   ]
  },
  {
   "cell_type": "code",
   "execution_count": 5,
   "id": "c15e6f9f-f295-47a8-b168-853550cea0e1",
   "metadata": {},
   "outputs": [
    {
     "data": {
      "text/plain": [
       "dict"
      ]
     },
     "execution_count": 5,
     "metadata": {},
     "output_type": "execute_result"
    }
   ],
   "source": [
    "type(s)"
   ]
  },
  {
   "cell_type": "code",
   "execution_count": 6,
   "id": "959befe5-aa11-4908-9d7d-e1707b111ae2",
   "metadata": {},
   "outputs": [
    {
     "data": {
      "text/plain": [
       "{1, 3, 13, 47, 80, 90, 100}"
      ]
     },
     "execution_count": 6,
     "metadata": {},
     "output_type": "execute_result"
    }
   ],
   "source": [
    "s1 = { 90,80,3,13,47,100,1}\n",
    "s1"
   ]
  },
  {
   "cell_type": "code",
   "execution_count": 7,
   "id": "5c70d02d-9a32-499c-a2f5-4405e6253165",
   "metadata": {},
   "outputs": [
    {
     "data": {
      "text/plain": [
       "{3, 23, 28, 67, 90}"
      ]
     },
     "execution_count": 7,
     "metadata": {},
     "output_type": "execute_result"
    }
   ],
   "source": [
    "s45={23,67,90,3,28}\n",
    "s45"
   ]
  },
  {
   "cell_type": "code",
   "execution_count": 8,
   "id": "4b50e929-ad7b-49d6-95fa-b0167b6cb8b5",
   "metadata": {},
   "outputs": [
    {
     "data": {
      "text/plain": [
       "{(1+2j), 2, 3, 4, True, 'nit'}"
      ]
     },
     "execution_count": 8,
     "metadata": {},
     "output_type": "execute_result"
    }
   ],
   "source": [
    "s2={4,'nit',2,3,True,1+2j}\n",
    "   \n",
    "s2"
   ]
  },
  {
   "cell_type": "code",
   "execution_count": 9,
   "id": "38712b19-7a58-4796-8dc4-e2234ed358ba",
   "metadata": {},
   "outputs": [
    {
     "data": {
      "text/plain": [
       "{(1+2j), 2, 3, 4, True, 'nit'}"
      ]
     },
     "execution_count": 9,
     "metadata": {},
     "output_type": "execute_result"
    }
   ],
   "source": [
    "s2={4,'nit',2,3,True,1+2j}\n",
    "   \n",
    "s2"
   ]
  },
  {
   "cell_type": "code",
   "execution_count": 10,
   "id": "213fd409-9654-4444-b4bd-9fdd255badca",
   "metadata": {},
   "outputs": [
    {
     "data": {
      "text/plain": [
       "{1, 3, 13, 47, 80, 90, 100}"
      ]
     },
     "execution_count": 10,
     "metadata": {},
     "output_type": "execute_result"
    }
   ],
   "source": [
    "s1.add(100) #duplicates are not allowed in sets\n",
    "s1"
   ]
  },
  {
   "cell_type": "code",
   "execution_count": 11,
   "id": "bc1a5acd-1749-488b-a0de-caef108e3ed5",
   "metadata": {},
   "outputs": [
    {
     "data": {
      "text/plain": [
       "{1, 3, 13, 47, 80, 90, 100}"
      ]
     },
     "execution_count": 11,
     "metadata": {},
     "output_type": "execute_result"
    }
   ],
   "source": [
    "s3=s1.copy()\n",
    "s3\n"
   ]
  },
  {
   "cell_type": "code",
   "execution_count": 12,
   "id": "7d2f361a-fe1d-4319-bfe6-375e277e8bfb",
   "metadata": {},
   "outputs": [
    {
     "data": {
      "text/plain": [
       "True"
      ]
     },
     "execution_count": 12,
     "metadata": {},
     "output_type": "execute_result"
    }
   ],
   "source": [
    "s1==s3"
   ]
  },
  {
   "cell_type": "code",
   "execution_count": 13,
   "id": "86318307-8d58-4f61-8fe9-f748baac94d3",
   "metadata": {},
   "outputs": [
    {
     "data": {
      "text/plain": [
       "7"
      ]
     },
     "execution_count": 13,
     "metadata": {},
     "output_type": "execute_result"
    }
   ],
   "source": [
    "len(s3) "
   ]
  },
  {
   "cell_type": "code",
   "execution_count": 14,
   "id": "847da104-bc6d-4639-ba49-f96f42509f8e",
   "metadata": {},
   "outputs": [
    {
     "data": {
      "text/plain": [
       "set()"
      ]
     },
     "execution_count": 14,
     "metadata": {},
     "output_type": "execute_result"
    }
   ],
   "source": [
    "s3.clear()\n",
    "s3"
   ]
  },
  {
   "cell_type": "code",
   "execution_count": 15,
   "id": "d124712f-8f18-48f9-b4ee-843c47b04b29",
   "metadata": {},
   "outputs": [
    {
     "data": {
      "text/plain": [
       "0"
      ]
     },
     "execution_count": 15,
     "metadata": {},
     "output_type": "execute_result"
    }
   ],
   "source": [
    "len(s3)\n"
   ]
  },
  {
   "cell_type": "code",
   "execution_count": 16,
   "id": "8268a441-2a87-418c-8d14-56edc53e1654",
   "metadata": {},
   "outputs": [
    {
     "data": {
      "text/plain": [
       "{1, 3, 13, 47, 80, 90, 100}"
      ]
     },
     "execution_count": 16,
     "metadata": {},
     "output_type": "execute_result"
    }
   ],
   "source": [
    "s1"
   ]
  },
  {
   "cell_type": "code",
   "execution_count": 17,
   "id": "984a2c7c-158a-4c57-a11d-32d071dd3829",
   "metadata": {},
   "outputs": [
    {
     "data": {
      "text/plain": [
       "{1, 3, 13, 47, 80, 90, 100}"
      ]
     },
     "execution_count": 17,
     "metadata": {},
     "output_type": "execute_result"
    }
   ],
   "source": [
    "s1 = {90, 80 , 3, 13, 47, 100, 1}\n",
    "s1"
   ]
  },
  {
   "cell_type": "code",
   "execution_count": 18,
   "id": "e8e2fe0e-1200-4900-bb4a-76260ff5c6a1",
   "metadata": {},
   "outputs": [
    {
     "data": {
      "text/plain": [
       "{1, 3, 13, 47, 80, 90, 100}"
      ]
     },
     "execution_count": 18,
     "metadata": {},
     "output_type": "execute_result"
    }
   ],
   "source": [
    "s1"
   ]
  },
  {
   "cell_type": "code",
   "execution_count": 19,
   "id": "2b5c3835-0503-48e2-9de1-99dad8e8e1a9",
   "metadata": {},
   "outputs": [
    {
     "ename": "TypeError",
     "evalue": "'set' object is not subscriptable",
     "output_type": "error",
     "traceback": [
      "\u001b[1;31m---------------------------------------------------------------------------\u001b[0m",
      "\u001b[1;31mTypeError\u001b[0m                                 Traceback (most recent call last)",
      "Cell \u001b[1;32mIn[19], line 1\u001b[0m\n\u001b[1;32m----> 1\u001b[0m s1[\u001b[38;5;241m0\u001b[39m]\n",
      "\u001b[1;31mTypeError\u001b[0m: 'set' object is not subscriptable"
     ]
    }
   ],
   "source": [
    "s1[0] #indexing and slicing is not allowed in sets"
   ]
  },
  {
   "cell_type": "code",
   "execution_count": 20,
   "id": "2b6c2639-3c4d-41c5-9362-7502431b66fa",
   "metadata": {},
   "outputs": [
    {
     "data": {
      "text/plain": [
       "{1, 3, 13, 47, 80, 90, 100}"
      ]
     },
     "execution_count": 20,
     "metadata": {},
     "output_type": "execute_result"
    }
   ],
   "source": [
    "s1"
   ]
  },
  {
   "cell_type": "code",
   "execution_count": 21,
   "id": "797ae51b-fbc3-4a88-8e2c-ebc7a3b7f453",
   "metadata": {},
   "outputs": [
    {
     "data": {
      "text/plain": [
       "80"
      ]
     },
     "execution_count": 21,
     "metadata": {},
     "output_type": "execute_result"
    }
   ],
   "source": [
    "s1.pop()  #pop() removes random elements unlike lists and tuple"
   ]
  },
  {
   "cell_type": "code",
   "execution_count": 22,
   "id": "71cc69fd-150d-4c6c-aca8-4aea4a5e77de",
   "metadata": {},
   "outputs": [
    {
     "ename": "KeyError",
     "evalue": "1000",
     "output_type": "error",
     "traceback": [
      "\u001b[1;31m---------------------------------------------------------------------------\u001b[0m",
      "\u001b[1;31mKeyError\u001b[0m                                  Traceback (most recent call last)",
      "Cell \u001b[1;32mIn[22], line 1\u001b[0m\n\u001b[1;32m----> 1\u001b[0m s1\u001b[38;5;241m.\u001b[39mremove(\u001b[38;5;241m1000\u001b[39m)\n",
      "\u001b[1;31mKeyError\u001b[0m: 1000"
     ]
    }
   ],
   "source": [
    "s1.remove(1000)"
   ]
  },
  {
   "cell_type": "code",
   "execution_count": 23,
   "id": "37b0bc6f-09c4-49eb-97ff-0502ffe0f661",
   "metadata": {},
   "outputs": [],
   "source": [
    "s1.discard(1000)"
   ]
  },
  {
   "cell_type": "code",
   "execution_count": 24,
   "id": "2a4b3c6d-3194-4b3f-a064-8371eb11d170",
   "metadata": {},
   "outputs": [
    {
     "data": {
      "text/plain": [
       "{1, 3, 13, 47, 90, 100}"
      ]
     },
     "execution_count": 24,
     "metadata": {},
     "output_type": "execute_result"
    }
   ],
   "source": [
    "s1"
   ]
  },
  {
   "cell_type": "code",
   "execution_count": 25,
   "id": "9f496be7-31ce-4bde-b6e6-0b5e9b8db53e",
   "metadata": {},
   "outputs": [
    {
     "data": {
      "text/plain": [
       "{1, 3, 13, 90, 100}"
      ]
     },
     "execution_count": 25,
     "metadata": {},
     "output_type": "execute_result"
    }
   ],
   "source": [
    "s1.remove(47)\n",
    "s1"
   ]
  },
  {
   "cell_type": "code",
   "execution_count": 26,
   "id": "f6a20dfb-72d3-47a0-8c8e-36a113144c5d",
   "metadata": {},
   "outputs": [
    {
     "data": {
      "text/plain": [
       "{1, 3, 13, 90, 100}"
      ]
     },
     "execution_count": 26,
     "metadata": {},
     "output_type": "execute_result"
    }
   ],
   "source": [
    "s1.discard(200)  #discard never throws error . It removes elemennt is it is present else it returns given set\n",
    "s1"
   ]
  },
  {
   "cell_type": "code",
   "execution_count": 27,
   "id": "5b0a516b-f4b8-4998-8a07-fc3f216b77d9",
   "metadata": {},
   "outputs": [],
   "source": [
    "s1.discard(3)"
   ]
  },
  {
   "cell_type": "code",
   "execution_count": 28,
   "id": "28516268-547e-4177-96bd-5b3e8f6ae786",
   "metadata": {},
   "outputs": [
    {
     "data": {
      "text/plain": [
       "{1, 13, 90, 100}"
      ]
     },
     "execution_count": 28,
     "metadata": {},
     "output_type": "execute_result"
    }
   ],
   "source": [
    "s1"
   ]
  },
  {
   "cell_type": "code",
   "execution_count": 29,
   "id": "5996458e-77a5-4a6f-aa7d-7908133621b0",
   "metadata": {},
   "outputs": [
    {
     "data": {
      "text/plain": [
       "{1, 3, 13, 90, 100}"
      ]
     },
     "execution_count": 29,
     "metadata": {},
     "output_type": "execute_result"
    }
   ],
   "source": [
    "s1.add(3)\n",
    "s1"
   ]
  },
  {
   "cell_type": "code",
   "execution_count": null,
   "id": "956cd24d-52b7-4374-a46b-223af4a6943f",
   "metadata": {},
   "outputs": [],
   "source": [
    "#set is mutable and immtuable"
   ]
  },
  {
   "cell_type": "code",
   "execution_count": 30,
   "id": "bd195441-fae2-4875-865b-4a8c1eeec322",
   "metadata": {},
   "outputs": [
    {
     "name": "stdout",
     "output_type": "stream",
     "text": [
      "1\n",
      "3\n",
      "100\n",
      "90\n",
      "13\n"
     ]
    }
   ],
   "source": [
    "for i in s1:\n",
    "    print(i)"
   ]
  },
  {
   "cell_type": "code",
   "execution_count": 31,
   "id": "035f2f9c-0e7f-47c8-a66b-1bbdbf42f1b0",
   "metadata": {},
   "outputs": [
    {
     "name": "stdout",
     "output_type": "stream",
     "text": [
      "(0, 1)\n",
      "(1, 3)\n",
      "(2, 100)\n",
      "(3, 90)\n",
      "(4, 13)\n"
     ]
    }
   ],
   "source": [
    "for i in enumerate(s1):\n",
    "    print(i)"
   ]
  },
  {
   "cell_type": "code",
   "execution_count": 32,
   "id": "0c7adee1-e608-42ab-a8c9-2571476bbd7c",
   "metadata": {},
   "outputs": [
    {
     "data": {
      "text/plain": [
       "{1, 2, 3, 13, 90, 100}"
      ]
     },
     "execution_count": 32,
     "metadata": {},
     "output_type": "execute_result"
    }
   ],
   "source": [
    "s1.update([1,2])\n",
    "s1"
   ]
  },
  {
   "cell_type": "code",
   "execution_count": 33,
   "id": "d307fffe-ef82-4006-b16f-e256f29ee862",
   "metadata": {},
   "outputs": [],
   "source": [
    "A={1,2,3,4,5}\n",
    "B={4,5,6,7,8}\n",
    "C={8,9,10}"
   ]
  },
  {
   "cell_type": "code",
   "execution_count": 34,
   "id": "f93ab6ef-930c-4d7f-96e8-7849736b236a",
   "metadata": {},
   "outputs": [
    {
     "data": {
      "text/plain": [
       "{1, 2, 3, 4, 5, 6, 7, 8}"
      ]
     },
     "execution_count": 34,
     "metadata": {},
     "output_type": "execute_result"
    }
   ],
   "source": [
    "A.union(B)   #union can also denoted by |"
   ]
  },
  {
   "cell_type": "code",
   "execution_count": 35,
   "id": "a627b8d0-06ed-4a2e-9430-b8412048d8fa",
   "metadata": {},
   "outputs": [],
   "source": [
    "A={1,2,3,4,5}\n",
    "B={4,5,6,7,8}\n",
    "C={8,9,10}"
   ]
  },
  {
   "cell_type": "code",
   "execution_count": 36,
   "id": "4a3dc3cc-4414-430e-ab95-503d6760f90e",
   "metadata": {},
   "outputs": [
    {
     "data": {
      "text/plain": [
       "{4, 5}"
      ]
     },
     "execution_count": 36,
     "metadata": {},
     "output_type": "execute_result"
    }
   ],
   "source": [
    "A.intersection(B) # & deonotes intersection"
   ]
  },
  {
   "cell_type": "code",
   "execution_count": 37,
   "id": "dcd3d6db-c579-4e9d-bc97-f3576b98f6ea",
   "metadata": {},
   "outputs": [
    {
     "data": {
      "text/plain": [
       "{8}"
      ]
     },
     "execution_count": 37,
     "metadata": {},
     "output_type": "execute_result"
    }
   ],
   "source": [
    "B & C  # & deonotes intersection"
   ]
  },
  {
   "cell_type": "code",
   "execution_count": 38,
   "id": "51b55a83-b812-4d74-a60f-12acb1fc67f6",
   "metadata": {},
   "outputs": [
    {
     "data": {
      "text/plain": [
       "{1, 2, 3}"
      ]
     },
     "execution_count": 38,
     "metadata": {},
     "output_type": "execute_result"
    }
   ],
   "source": [
    "A-B"
   ]
  },
  {
   "cell_type": "code",
   "execution_count": 39,
   "id": "25c1d0f1-06a3-4bd4-af7d-844006592af6",
   "metadata": {},
   "outputs": [
    {
     "data": {
      "text/plain": [
       "{9, 10}"
      ]
     },
     "execution_count": 39,
     "metadata": {},
     "output_type": "execute_result"
    }
   ],
   "source": [
    "C.difference(B)"
   ]
  },
  {
   "cell_type": "code",
   "execution_count": 40,
   "id": "e87f0327-ae54-4c44-95ad-6c2da7725029",
   "metadata": {},
   "outputs": [],
   "source": [
    "A={1,2,3,4,5}\n",
    "B={4,5,6,7,8}\n",
    "C={8,9,10}"
   ]
  },
  {
   "cell_type": "code",
   "execution_count": 41,
   "id": "d9e22e78-8347-4643-8891-ef22cc54542d",
   "metadata": {},
   "outputs": [
    {
     "name": "stdout",
     "output_type": "stream",
     "text": [
      "{1, 2, 3, 4, 5}\n",
      "{4, 5, 6, 7, 8}\n",
      "{8, 9, 10}\n"
     ]
    }
   ],
   "source": [
    "print(A)\n",
    "print(B)\n",
    "print(C)"
   ]
  },
  {
   "cell_type": "code",
   "execution_count": 42,
   "id": "6d197f97-ff35-4f03-9a6b-cc18c4c00ecb",
   "metadata": {},
   "outputs": [
    {
     "data": {
      "text/plain": [
       "{1, 2, 3, 6, 7, 8}"
      ]
     },
     "execution_count": 42,
     "metadata": {},
     "output_type": "execute_result"
    }
   ],
   "source": [
    "A.symmetric_difference(B) #symmetric difference is denoted by ^"
   ]
  },
  {
   "cell_type": "code",
   "execution_count": 43,
   "id": "4cfd2c0b-f3b1-4259-aa39-4f2438f11ce9",
   "metadata": {},
   "outputs": [
    {
     "data": {
      "text/plain": [
       "{4, 5, 6, 7, 9, 10}"
      ]
     },
     "execution_count": 43,
     "metadata": {},
     "output_type": "execute_result"
    }
   ],
   "source": [
    "B.symmetric_difference(C)"
   ]
  },
  {
   "cell_type": "code",
   "execution_count": 44,
   "id": "23ad95b4-0828-4035-b36b-ae6458bc3513",
   "metadata": {},
   "outputs": [
    {
     "data": {
      "text/plain": [
       "{1, 2, 3}"
      ]
     },
     "execution_count": 44,
     "metadata": {},
     "output_type": "execute_result"
    }
   ],
   "source": [
    "A.difference(B)"
   ]
  },
  {
   "cell_type": "code",
   "execution_count": 45,
   "id": "01ea2fbf-a55d-45aa-b36b-37227f66205d",
   "metadata": {},
   "outputs": [
    {
     "data": {
      "text/plain": [
       "{4, 5, 6, 7, 9, 10}"
      ]
     },
     "execution_count": 45,
     "metadata": {},
     "output_type": "execute_result"
    }
   ],
   "source": [
    "B ^ C  # ^ is symmetric difference"
   ]
  },
  {
   "cell_type": "code",
   "execution_count": 46,
   "id": "b93d5222-5421-4d4e-ab8e-dbd50f82bd72",
   "metadata": {},
   "outputs": [
    {
     "name": "stdout",
     "output_type": "stream",
     "text": [
      "{1, 2, 3, 4, 5}\n",
      "{4, 5, 6, 7, 8}\n",
      "{8, 9, 10}\n"
     ]
    }
   ],
   "source": [
    "print(A)\n",
    "print(B)\n",
    "print(C)"
   ]
  },
  {
   "cell_type": "code",
   "execution_count": 47,
   "id": "09ba0ad8-0d8b-47ad-8b8c-934f4210499f",
   "metadata": {},
   "outputs": [
    {
     "data": {
      "text/plain": [
       "5"
      ]
     },
     "execution_count": 47,
     "metadata": {},
     "output_type": "execute_result"
    }
   ],
   "source": [
    "len(A)"
   ]
  },
  {
   "cell_type": "code",
   "execution_count": 48,
   "id": "6511bb65-4438-4cfc-9dbc-21046087eb80",
   "metadata": {},
   "outputs": [],
   "source": [
    "A.symmetric_difference_update(B)"
   ]
  },
  {
   "cell_type": "code",
   "execution_count": 49,
   "id": "69cfa72f-c888-42d3-a1e0-636464bcfff6",
   "metadata": {},
   "outputs": [],
   "source": [
    "A1={1,2,3,4,5,6,7,8,9}\n",
    "B1={3,4,5,6,7,8}\n",
    "C1={10,20,30,40}"
   ]
  },
  {
   "cell_type": "code",
   "execution_count": 50,
   "id": "01763644-5934-4b15-984c-b2bbb99407cb",
   "metadata": {},
   "outputs": [
    {
     "data": {
      "text/plain": [
       "True"
      ]
     },
     "execution_count": 50,
     "metadata": {},
     "output_type": "execute_result"
    }
   ],
   "source": [
    "A1.issuperset(B1)"
   ]
  },
  {
   "cell_type": "code",
   "execution_count": 51,
   "id": "c4e94570-d782-4bee-a197-f303adc86268",
   "metadata": {},
   "outputs": [
    {
     "data": {
      "text/plain": [
       "True"
      ]
     },
     "execution_count": 51,
     "metadata": {},
     "output_type": "execute_result"
    }
   ],
   "source": [
    "B1.issubset(A1)"
   ]
  },
  {
   "cell_type": "code",
   "execution_count": 52,
   "id": "b305c932-fa96-4ebf-8ef7-935caa130802",
   "metadata": {},
   "outputs": [
    {
     "data": {
      "text/plain": [
       "True"
      ]
     },
     "execution_count": 52,
     "metadata": {},
     "output_type": "execute_result"
    }
   ],
   "source": [
    "C1.isdisjoint(B1)"
   ]
  },
  {
   "cell_type": "code",
   "execution_count": 53,
   "id": "b7ff0ee8-56e0-45e7-9b7f-7a76cc1f0c6e",
   "metadata": {},
   "outputs": [
    {
     "data": {
      "text/plain": [
       "True"
      ]
     },
     "execution_count": 53,
     "metadata": {},
     "output_type": "execute_result"
    }
   ],
   "source": [
    "S6= {3,9,2,'trdhs', 6+2j, 3,True, 7.5, False}\n",
    "any(S6)"
   ]
  },
  {
   "cell_type": "code",
   "execution_count": 54,
   "id": "267b1319-8936-4547-8e44-2e4da839a82c",
   "metadata": {},
   "outputs": [
    {
     "name": "stdout",
     "output_type": "stream",
     "text": [
      "False\n"
     ]
    }
   ],
   "source": [
    "S7= {0, False, 0+0j, 0.0}\n",
    "print(all(S7))"
   ]
  },
  {
   "cell_type": "code",
   "execution_count": null,
   "id": "7447a315-b80e-4e29-8d5d-fda36d6bfd46",
   "metadata": {},
   "outputs": [],
   "source": [
    "DICTIONARY"
   ]
  },
  {
   "cell_type": "code",
   "execution_count": 55,
   "id": "e5d10f33-51b7-42e3-aa0c-f54d8e98331f",
   "metadata": {},
   "outputs": [
    {
     "name": "stdout",
     "output_type": "stream",
     "text": [
      "5\n",
      "{1: 'one', 2: 'two', 3: 'three', 4: 'Four', 5: 'Five'}\n"
     ]
    }
   ],
   "source": [
    "D1={\n",
    "    1:'one',\n",
    "    2:'two',\n",
    "    3:'three',\n",
    "    4:'Four',\n",
    "    5:'Five'\n",
    "}\n",
    "print(len(D1))\n",
    "print(D1)"
   ]
  },
  {
   "cell_type": "code",
   "execution_count": 56,
   "id": "fec80caf-bb6e-4d35-a048-d26f3560e7fa",
   "metadata": {},
   "outputs": [
    {
     "name": "stdout",
     "output_type": "stream",
     "text": [
      "(0, 1)\n",
      "(1, 2)\n",
      "(2, 3)\n",
      "(3, 4)\n",
      "(4, 5)\n"
     ]
    }
   ],
   "source": [
    "for i in enumerate(D1):\n",
    "    print(i)                \n"
   ]
  },
  {
   "cell_type": "code",
   "execution_count": 57,
   "id": "f66d0de7-a175-4c0a-9a66-ca349685898b",
   "metadata": {},
   "outputs": [
    {
     "name": "stdout",
     "output_type": "stream",
     "text": [
      "Dog's color: brown\n",
      "Cat's sound: meow\n"
     ]
    }
   ],
   "source": [
    "# Nested dictionary of animals\n",
    "animals = {\n",
    "    \"dog\": {\n",
    "        \"color\": \"brown\",\n",
    "        \"sound\": \"bark\"\n",
    "    },\n",
    "    \"cat\": {\n",
    "        \"color\": \"white\",\n",
    "        \"sound\": \"meow\"\n",
    "    }\n",
    "}\n",
    "\n",
    "# Accessing values\n",
    "print(\"Dog's color:\", animals[\"dog\"][\"color\"])\n",
    "print(\"Cat's sound:\", animals[\"cat\"][\"sound\"])"
   ]
  },
  {
   "cell_type": "code",
   "execution_count": 58,
   "id": "0bb90a80-2f3d-419e-a861-dab2460b45b5",
   "metadata": {},
   "outputs": [],
   "source": [
    "person = {\n",
    "    \"name\": \"Alice\",\n",
    "    \"age\": 25,\n",
    "    \"city\": \"Paris\"\n",
    "}"
   ]
  },
  {
   "cell_type": "code",
   "execution_count": 59,
   "id": "7a8bdf48-eda4-48cf-b5a3-4306653e9640",
   "metadata": {},
   "outputs": [
    {
     "name": "stdout",
     "output_type": "stream",
     "text": [
      "dict_keys(['name', 'age', 'city'])\n"
     ]
    }
   ],
   "source": [
    "print(person.keys())  "
   ]
  },
  {
   "cell_type": "code",
   "execution_count": 60,
   "id": "10c7a0bf-0d57-43da-a9a6-994d5a814f7f",
   "metadata": {},
   "outputs": [
    {
     "name": "stdout",
     "output_type": "stream",
     "text": [
      "dict_values(['Alice', 25, 'Paris'])\n"
     ]
    }
   ],
   "source": [
    "print(person.values()) "
   ]
  },
  {
   "cell_type": "code",
   "execution_count": 61,
   "id": "f9efd81a-cf4d-41cb-bdec-93c1546d5fd0",
   "metadata": {},
   "outputs": [
    {
     "name": "stdout",
     "output_type": "stream",
     "text": [
      "dict_items([('name', 'Alice'), ('age', 25), ('city', 'Paris')])\n"
     ]
    }
   ],
   "source": [
    "print(person.items())"
   ]
  },
  {
   "cell_type": "code",
   "execution_count": 62,
   "id": "5eadbc51-d1a0-4a7f-89c9-d106e47ebf87",
   "metadata": {},
   "outputs": [
    {
     "name": "stdout",
     "output_type": "stream",
     "text": [
      "25\n",
      "None\n"
     ]
    }
   ],
   "source": [
    "print(person.get(\"age\"))      \n",
    "print(person.get(\"gender\"))\n"
   ]
  },
  {
   "cell_type": "code",
   "execution_count": 63,
   "id": "e3583dcb-b4ac-4231-95b8-e8bbf3c5a62c",
   "metadata": {},
   "outputs": [
    {
     "name": "stdout",
     "output_type": "stream",
     "text": [
      "{'name': 'Alice', 'age': 26, 'city': 'Paris', 'country': 'France'}\n"
     ]
    }
   ],
   "source": [
    "person.update({\"age\": 26, \"country\": \"France\"})\n",
    "print(person)\n"
   ]
  },
  {
   "cell_type": "code",
   "execution_count": 64,
   "id": "13304886-283a-4bd9-a1b0-68742241da75",
   "metadata": {},
   "outputs": [
    {
     "name": "stdout",
     "output_type": "stream",
     "text": [
      "{'name': 'Alice', 'age': 26, 'country': 'France'}\n"
     ]
    }
   ],
   "source": [
    "person.pop(\"city\")\n",
    "print(person) "
   ]
  },
  {
   "cell_type": "code",
   "execution_count": 65,
   "id": "beeb9be7-c72a-4f70-a8a8-75073199ff81",
   "metadata": {},
   "outputs": [
    {
     "name": "stdout",
     "output_type": "stream",
     "text": [
      "{'name': 'Alice', 'age': 26}\n"
     ]
    }
   ],
   "source": [
    "person.popitem()\n",
    "print(person)  "
   ]
  },
  {
   "cell_type": "code",
   "execution_count": 66,
   "id": "cd7309e7-fde4-44c1-84b4-7b981e2d73b6",
   "metadata": {},
   "outputs": [
    {
     "name": "stdout",
     "output_type": "stream",
     "text": [
      "{}\n"
     ]
    }
   ],
   "source": [
    "person.clear()\n",
    "print(person)"
   ]
  },
  {
   "cell_type": "code",
   "execution_count": 67,
   "id": "6a903838-8701-4ac7-b9e4-b49e4ed87ecd",
   "metadata": {},
   "outputs": [
    {
     "name": "stdout",
     "output_type": "stream",
     "text": [
      "{'a': 1, 'b': 2}\n"
     ]
    }
   ],
   "source": [
    "original = {\"a\": 1, \"b\": 2}\n",
    "copy_dict = original.copy()\n",
    "print(copy_dict) "
   ]
  },
  {
   "cell_type": "code",
   "execution_count": 68,
   "id": "337d624a-80e4-4080-973e-05dd990aa233",
   "metadata": {},
   "outputs": [
    {
     "name": "stdout",
     "output_type": "stream",
     "text": [
      "{'x': 0, 'y': 0, 'z': 0}\n"
     ]
    }
   ],
   "source": [
    "keys = [\"x\", \"y\", \"z\"]\n",
    "new_dict = dict.fromkeys(keys, 0)\n",
    "print(new_dict) "
   ]
  },
  {
   "cell_type": "code",
   "execution_count": null,
   "id": "d66b402e-17ed-4c0f-851d-930c8cb01b02",
   "metadata": {},
   "outputs": [],
   "source": []
  }
 ],
 "metadata": {
  "kernelspec": {
   "display_name": "Python 3 (ipykernel)",
   "language": "python",
   "name": "python3"
  },
  "language_info": {
   "codemirror_mode": {
    "name": "ipython",
    "version": 3
   },
   "file_extension": ".py",
   "mimetype": "text/x-python",
   "name": "python",
   "nbconvert_exporter": "python",
   "pygments_lexer": "ipython3",
   "version": "3.12.7"
  }
 },
 "nbformat": 4,
 "nbformat_minor": 5
}
