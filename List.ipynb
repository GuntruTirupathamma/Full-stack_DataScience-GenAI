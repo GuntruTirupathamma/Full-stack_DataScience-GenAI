{
 "cells": [
  {
   "cell_type": "code",
   "execution_count": 1,
   "id": "9c91eddd-80a7-4964-99ec-17c0df6073d4",
   "metadata": {},
   "outputs": [
    {
     "name": "stdout",
     "output_type": "stream",
     "text": [
      "0\n",
      "<class 'list'>\n"
     ]
    }
   ],
   "source": [
    "l=[]\n",
    "type(l)\n",
    "print(len(l))\n",
    "print(type(l))"
   ]
  },
  {
   "cell_type": "code",
   "execution_count": 2,
   "id": "f0ebe6ed-7aa2-4727-9ef6-46802161b53a",
   "metadata": {},
   "outputs": [
    {
     "data": {
      "text/plain": [
       "[10]"
      ]
     },
     "execution_count": 2,
     "metadata": {},
     "output_type": "execute_result"
    }
   ],
   "source": [
    "l.append(10)\n",
    "l"
   ]
  },
  {
   "cell_type": "code",
   "execution_count": 3,
   "id": "1b781d95-c385-41f6-8486-c11436383c77",
   "metadata": {},
   "outputs": [
    {
     "data": {
      "text/plain": [
       "[10, 20, 30, 40, 50, 50]"
      ]
     },
     "execution_count": 3,
     "metadata": {},
     "output_type": "execute_result"
    }
   ],
   "source": [
    "l.append(20)\n",
    "l.append(30)\n",
    "l.append(40)\n",
    "l.append(50)\n",
    "l.append(50)\n",
    "\n",
    "l"
   ]
  },
  {
   "cell_type": "code",
   "execution_count": 4,
   "id": "022ff29a-fbcf-4538-a6e3-93037f5f15d1",
   "metadata": {},
   "outputs": [
    {
     "data": {
      "text/plain": [
       "list"
      ]
     },
     "execution_count": 4,
     "metadata": {},
     "output_type": "execute_result"
    }
   ],
   "source": [
    "type(l)"
   ]
  },
  {
   "cell_type": "code",
   "execution_count": 5,
   "id": "4d7db45d-d0a0-4a5c-80eb-1c2da070f9e4",
   "metadata": {},
   "outputs": [
    {
     "data": {
      "text/plain": [
       "([10, 20, 30, 40, 50, 50], ['nit', True, 2.3, (1+2j)])"
      ]
     },
     "execution_count": 5,
     "metadata": {},
     "output_type": "execute_result"
    }
   ],
   "source": [
    "l1=[]\n",
    "l1.append('nit')\n",
    "l1.append(True)\n",
    "l1.append(2.3)\n",
    "l1.append(1+2j)\n",
    "l1\n",
    "l,l1"
   ]
  },
  {
   "cell_type": "code",
   "execution_count": 6,
   "id": "831f0e4e-ef53-490f-8983-c5e138bb096e",
   "metadata": {},
   "outputs": [
    {
     "data": {
      "text/plain": [
       "['nit', True, 2.3, (1+2j), 'got it']"
      ]
     },
     "execution_count": 6,
     "metadata": {},
     "output_type": "execute_result"
    }
   ],
   "source": [
    "l1.append('got it')\n",
    "l1"
   ]
  },
  {
   "cell_type": "code",
   "execution_count": 7,
   "id": "e555f202-f3dc-46d5-b260-07a1c9bf2248",
   "metadata": {},
   "outputs": [
    {
     "name": "stdout",
     "output_type": "stream",
     "text": [
      "nit\n",
      "True\n",
      "2.3\n",
      "(1+2j)\n",
      "got it\n"
     ]
    }
   ],
   "source": [
    "for i in l1:\n",
    " print(i)"
   ]
  },
  {
   "cell_type": "code",
   "execution_count": 8,
   "id": "f225b5db-c09c-4bdd-819d-5f973894a881",
   "metadata": {},
   "outputs": [
    {
     "name": "stdout",
     "output_type": "stream",
     "text": [
      "(0, 'nit')\n",
      "(1, True)\n",
      "(2, 2.3)\n",
      "(3, (1+2j))\n",
      "(4, 'got it')\n"
     ]
    }
   ],
   "source": [
    "for i in enumerate(l1):\n",
    "    print(i)"
   ]
  },
  {
   "cell_type": "code",
   "execution_count": 9,
   "id": "311d2456-9c1d-4404-9005-d6830d836dfd",
   "metadata": {},
   "outputs": [
    {
     "data": {
      "text/plain": [
       "[10, 20, 30, 40, 50, 50]"
      ]
     },
     "execution_count": 9,
     "metadata": {},
     "output_type": "execute_result"
    }
   ],
   "source": [
    "l[:]"
   ]
  },
  {
   "cell_type": "code",
   "execution_count": 10,
   "id": "c6d95ba3-0e15-42c7-add0-9614d114b03b",
   "metadata": {},
   "outputs": [
    {
     "data": {
      "text/plain": [
       "50"
      ]
     },
     "execution_count": 10,
     "metadata": {},
     "output_type": "execute_result"
    }
   ],
   "source": [
    "l[-1]"
   ]
  },
  {
   "cell_type": "code",
   "execution_count": 11,
   "id": "8b4658be-0999-47c5-85d2-40f43e323d1b",
   "metadata": {},
   "outputs": [
    {
     "data": {
      "text/plain": [
       "[100, 20, 30, 40, 50, 50]"
      ]
     },
     "execution_count": 11,
     "metadata": {},
     "output_type": "execute_result"
    }
   ],
   "source": [
    "l[0]=100\n",
    "l\n",
    "#list is mutable"
   ]
  },
  {
   "cell_type": "code",
   "execution_count": 12,
   "id": "2acbd382-17f6-40a9-87a9-43926324401f",
   "metadata": {},
   "outputs": [
    {
     "data": {
      "text/plain": [
       "[100, 20, 30, 40, 50, 50, 60]"
      ]
     },
     "execution_count": 12,
     "metadata": {},
     "output_type": "execute_result"
    }
   ],
   "source": [
    "l.append(60)\n",
    "l"
   ]
  },
  {
   "cell_type": "code",
   "execution_count": null,
   "id": "84aea916-c93f-4330-aebc-5641765702f9",
   "metadata": {},
   "outputs": [],
   "source": []
  }
 ],
 "metadata": {
  "kernelspec": {
   "display_name": "Python 3 (ipykernel)",
   "language": "python",
   "name": "python3"
  },
  "language_info": {
   "codemirror_mode": {
    "name": "ipython",
    "version": 3
   },
   "file_extension": ".py",
   "mimetype": "text/x-python",
   "name": "python",
   "nbconvert_exporter": "python",
   "pygments_lexer": "ipython3",
   "version": "3.12.7"
  }
 },
 "nbformat": 4,
 "nbformat_minor": 5
}
