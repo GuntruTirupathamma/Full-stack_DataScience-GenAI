{
 "cells": [
  {
   "cell_type": "code",
   "execution_count": 1,
   "id": "893c369d-c261-468a-9025-25cceee4b9b1",
   "metadata": {},
   "outputs": [
    {
     "name": "stdout",
     "output_type": "stream",
     "text": [
      "First name: Tirupathamma\n",
      "First name length: 12\n",
      "Last name:  Guntru\n",
      "Last name length:  6\n",
      "Country:  India\n",
      "City:  Hyderabad\n",
      "Age:  26\n",
      "Employement Status:  False\n",
      "Skills:  ['Python', 'NextJS', 'ReactJS']\n",
      "Personal information:  {'firstname': 'Nakhiya', 'lastname': 'Sayyad', 'country': 'India', 'city': 'Nuzvid'}\n"
     ]
    }
   ],
   "source": [
    "first_name = 'Tirupathamma'\n",
    "last_name = 'Guntru'\n",
    "country = 'India'\n",
    "city = 'Hyderabad'\n",
    "age = 26\n",
    "is_employeed = False\n",
    "skills = ['Python', 'NextJS', 'ReactJS']\n",
    "personal_info = {\n",
    "    'firstname':'Nakhiya', \n",
    "    'lastname':'Sayyad', \n",
    "    'country':'India',\n",
    "    'city':'Nuzvid'\n",
    "    }\n",
    "\n",
    "print('First name:', first_name)\n",
    "print('First name length:', len(first_name))\n",
    "print('Last name: ', last_name)\n",
    "print('Last name length: ', len(last_name))\n",
    "print('Country: ', country)\n",
    "print('City: ', city)\n",
    "print('Age: ', age)\n",
    "print('Employement Status: ', is_employeed)\n",
    "print('Skills: ', skills)\n",
    "print('Personal information: ', personal_info)"
   ]
  },
  {
   "cell_type": "code",
   "execution_count": 2,
   "id": "dfb8b494-2618-465d-92be-e0d0a5be6300",
   "metadata": {},
   "outputs": [
    {
     "name": "stdout",
     "output_type": "stream",
     "text": [
      "Tirupathammma Guntru Hyderabad 1232 False\n",
      "First name: Tirupathammma\n",
      "Last name:  Guntru\n",
      "Country:  Hyderabad\n",
      "Age:  1232\n",
      "Employement Status:  False\n"
     ]
    }
   ],
   "source": [
    "first_name, last_name, country, age, is_employeed = 'Tirupathammma', 'Guntru', 'Hyderabad', 1232, False\n",
    "print(first_name, last_name, country, age, is_employeed)\n",
    "print('First name:', first_name)\n",
    "print('Last name: ', last_name)\n",
    "print('Country: ', country)\n",
    "print('Age: ', age)\n",
    "print('Employement Status: ', is_employeed)"
   ]
  },
  {
   "cell_type": "code",
   "execution_count": null,
   "id": "c2655559-99da-405e-82e2-09aef3ea7789",
   "metadata": {},
   "outputs": [],
   "source": []
  }
 ],
 "metadata": {
  "kernelspec": {
   "display_name": "Python 3 (ipykernel)",
   "language": "python",
   "name": "python3"
  },
  "language_info": {
   "codemirror_mode": {
    "name": "ipython",
    "version": 3
   },
   "file_extension": ".py",
   "mimetype": "text/x-python",
   "name": "python",
   "nbconvert_exporter": "python",
   "pygments_lexer": "ipython3",
   "version": "3.12.7"
  }
 },
 "nbformat": 4,
 "nbformat_minor": 5
}
